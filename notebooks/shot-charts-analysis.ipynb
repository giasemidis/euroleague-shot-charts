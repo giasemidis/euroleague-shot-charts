{
 "cells": [
  {
   "cell_type": "markdown",
   "id": "ba97e17e-faef-40e9-92e9-90c8e8c3d8f8",
   "metadata": {},
   "source": [
    "Analyse player, season or team shot data from the database."
   ]
  },
  {
   "cell_type": "code",
   "execution_count": null,
   "id": "7baa13b5-a32b-43f4-b1c7-df6e789ae11e",
   "metadata": {},
   "outputs": [],
   "source": [
    "import sys\n",
    "import glob\n",
    "import pandas as pd\n",
    "import numpy as np\n",
    "\n",
    "from matplotlib import pyplot as plt\n",
    "\n",
    "sys.path.append(\"../utils/\")\n",
    "from draw_court import draw_court\n",
    "from shot_chart_plots import plot_scatter, joint_plot\n",
    "from get_data import get_player_shot_data\n",
    "%matplotlib\n",
    "\n",
    "plt.close('all')"
   ]
  },
  {
   "cell_type": "markdown",
   "id": "f69ddada-b896-4702-8c89-0a163cccc488",
   "metadata": {
    "tags": []
   },
   "source": [
    "# Load Data"
   ]
  },
  {
   "cell_type": "code",
   "execution_count": null,
   "id": "fd2535a2-3ca3-4bff-b1eb-1e32717a19bf",
   "metadata": {},
   "outputs": [],
   "source": [
    "files = glob.glob(\"../data/shot-data-*.csv\")"
   ]
  },
  {
   "cell_type": "code",
   "execution_count": null,
   "id": "720439ef-8b38-4d4d-a429-7af48b6b00dd",
   "metadata": {},
   "outputs": [],
   "source": [
    "df_list = [pd.read_csv(file) for file in files]"
   ]
  },
  {
   "cell_type": "code",
   "execution_count": null,
   "id": "71b6f076-6b5b-49aa-881e-4bcacbe261be",
   "metadata": {},
   "outputs": [],
   "source": [
    "df = pd.concat(df_list)"
   ]
  },
  {
   "cell_type": "markdown",
   "id": "085029c9-84ab-4107-9f64-5093f565af6b",
   "metadata": {
    "tags": []
   },
   "source": [
    "# Player Shot Charts"
   ]
  },
  {
   "cell_type": "markdown",
   "id": "9c0ae67c-ea61-4364-8365-b55572bca565",
   "metadata": {
    "tags": []
   },
   "source": [
    "## Mike James"
   ]
  },
  {
   "cell_type": "code",
   "execution_count": null,
   "id": "a1c4d954-9a65-4b00-b973-e40ed128b689",
   "metadata": {},
   "outputs": [],
   "source": [
    "mj_made_df, mj_missed_df, mj_total = get_player_shot_data(df, name='JAMES, MIKE')"
   ]
  },
  {
   "cell_type": "code",
   "execution_count": null,
   "id": "39606ce9-f8e4-4398-8c70-2a59a2aea20e",
   "metadata": {},
   "outputs": [],
   "source": [
    "plot_scatter(mj_made_df, mj_missed_df, title='Mike James: Euroleague Career')\n",
    "plt.plot(-6, 1053, 'ro', markersize=15)"
   ]
  },
  {
   "cell_type": "code",
   "execution_count": null,
   "id": "92cd7d6d-5a34-48df-b806-fa158d279336",
   "metadata": {},
   "outputs": [],
   "source": [
    "joint_plot(mj_total, title='Mike James: Attempted Euroleague Career')"
   ]
  },
  {
   "cell_type": "markdown",
   "id": "5471db4e-83ad-4e17-b47b-2abfa35cd522",
   "metadata": {},
   "source": [
    "## 3D"
   ]
  },
  {
   "cell_type": "code",
   "execution_count": null,
   "id": "0a34d118-2a7c-43e6-b040-882e929ab0d8",
   "metadata": {},
   "outputs": [],
   "source": [
    "dd_made_df, dd_missed_df, dd_total = get_player_shot_data(df, name='DIAMANTIDIS')"
   ]
  },
  {
   "cell_type": "code",
   "execution_count": null,
   "id": "21c2e6a2-1335-4897-9bfc-806c12400da5",
   "metadata": {},
   "outputs": [],
   "source": [
    "joint_plot(dd_total,  title='Dimitris Diamantidis: Attempted Euroleague Career')"
   ]
  },
  {
   "cell_type": "markdown",
   "id": "dfb14129-e1fb-4be1-92af-98dadba0d0cf",
   "metadata": {
    "tags": []
   },
   "source": [
    "## VSpan"
   ]
  },
  {
   "cell_type": "code",
   "execution_count": null,
   "id": "761d8dfb-ea39-4bc4-a7f6-ff01acdac9ef",
   "metadata": {},
   "outputs": [],
   "source": [
    "vs_made_df, vs_missed_df, vs_total = get_player_shot_data(df, name='SPANOULIS')"
   ]
  },
  {
   "cell_type": "code",
   "execution_count": null,
   "id": "57a1b396-9554-4e6a-bc2b-108ef17d8c47",
   "metadata": {},
   "outputs": [],
   "source": [
    "joint_plot(vs_total,  title='Vasilis Spanoulis: Attempted Euroleague Career')"
   ]
  },
  {
   "cell_type": "markdown",
   "id": "6a7b16fb-7352-4aed-a65a-ca087e183bf7",
   "metadata": {
    "tags": []
   },
   "source": [
    "## La Momba"
   ]
  },
  {
   "cell_type": "code",
   "execution_count": null,
   "id": "70640b9e-a133-43cc-8e0f-6511543fed14",
   "metadata": {},
   "outputs": [],
   "source": [
    "jcn_made_df, jcn_missed_df, jcn_total = get_player_shot_data(df, name='NAVARRO, JUAN CARLOS')"
   ]
  },
  {
   "cell_type": "code",
   "execution_count": null,
   "id": "ca931553-8e12-472d-9ff5-2b6a41074252",
   "metadata": {},
   "outputs": [],
   "source": [
    "joint_plot(jcn_total,  title='Juan Carlos Navarro: Attempted Euroleague Career')"
   ]
  },
  {
   "cell_type": "markdown",
   "id": "4c4f5bb0-a72b-4a54-9c28-f33aff82ad42",
   "metadata": {
    "tags": []
   },
   "source": [
    "# Shot chart evolutions since 2007"
   ]
  },
  {
   "cell_type": "code",
   "execution_count": null,
   "id": "de0eaa2d-6201-4313-8eee-b67dc3847407",
   "metadata": {},
   "outputs": [],
   "source": [
    "plt.close('all')"
   ]
  },
  {
   "cell_type": "code",
   "execution_count": null,
   "id": "7607225a-ab88-4dad-b70d-8598aed5260d",
   "metadata": {},
   "outputs": [],
   "source": [
    "# ignore free throws\n",
    "fg_shots = df[df['ID_ACTION'] != 'FTM'].reset_index()\n",
    "for season in np.arange(2007, 2022):\n",
    "    fig = joint_plot(fg_shots[(fg_shots['Season'] == season)].reset_index(), title=f'Season: {season}')\n",
    "    fig.savefig('../generated-plots/density-plot-%d.png' % season)"
   ]
  }
 ],
 "metadata": {
  "kernelspec": {
   "display_name": "euroleague-analysis",
   "language": "python",
   "name": "python3"
  },
  "language_info": {
   "codemirror_mode": {
    "name": "ipython",
    "version": 3
   },
   "file_extension": ".py",
   "mimetype": "text/x-python",
   "name": "python",
   "nbconvert_exporter": "python",
   "pygments_lexer": "ipython3",
   "version": "3.11.7"
  }
 },
 "nbformat": 4,
 "nbformat_minor": 5
}
