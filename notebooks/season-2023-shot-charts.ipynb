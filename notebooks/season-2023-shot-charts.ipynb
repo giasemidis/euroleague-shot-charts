{
 "cells": [
  {
   "cell_type": "code",
   "execution_count": null,
   "metadata": {},
   "outputs": [],
   "source": [
    "import os\n",
    "import sys\n",
    "import pandas as pd\n",
    "\n",
    "from matplotlib import pyplot as plt\n",
    "\n",
    "sys.path.append(\"../utils/\")\n",
    "from draw_court import draw_court\n",
    "from shot_chart_plots import plot_scatter, joint_plot\n",
    "%matplotlib\n",
    "\n",
    "plt.close(\"all\")"
   ]
  },
  {
   "cell_type": "code",
   "execution_count": null,
   "metadata": {},
   "outputs": [],
   "source": [
    "def made_missed_dfs(df, field, value, gamecode=None, round=None):\n",
    "    if gamecode is not None:\n",
    "        temp_df = df[(df[field] == value) & (df[\"Gamecode\"] == gamecode)]\n",
    "    elif round is not None:\n",
    "        temp_df = df[(df[field] == value) & (df[\"Round\"] == round)]\n",
    "    else:\n",
    "        temp_df = df[df[field] == value]\n",
    "    fg_made_df = temp_df[temp_df['ID_ACTION'].isin(['2FGM', '3FGM'])]\n",
    "    fg_miss_df = temp_df[temp_df['ID_ACTION'].isin(['2FGA', '3FGA'])]\n",
    "    return fg_made_df, fg_miss_df"
   ]
  },
  {
   "cell_type": "code",
   "execution_count": null,
   "metadata": {},
   "outputs": [],
   "source": [
    "data_dir = \"c:/Users/giase/Documents/DataScience/Projects/euroleague_api/notebooks/data\""
   ]
  },
  {
   "cell_type": "code",
   "execution_count": null,
   "metadata": {},
   "outputs": [],
   "source": [
    "file = \"shot_data_2023.csv\""
   ]
  },
  {
   "cell_type": "code",
   "execution_count": null,
   "metadata": {},
   "outputs": [],
   "source": [
    "df = pd.read_csv(os.path.join(data_dir, file))"
   ]
  },
  {
   "cell_type": "code",
   "execution_count": null,
   "metadata": {},
   "outputs": [],
   "source": [
    "df[\"ID_ACTION\"].unique()"
   ]
  },
  {
   "cell_type": "code",
   "execution_count": null,
   "metadata": {},
   "outputs": [],
   "source": [
    "df[\"TEAM\"].unique()"
   ]
  },
  {
   "cell_type": "code",
   "execution_count": null,
   "metadata": {},
   "outputs": [],
   "source": [
    "df[\"Round\"].unique()"
   ]
  },
  {
   "cell_type": "markdown",
   "metadata": {},
   "source": [
    "# Round 6"
   ]
  },
  {
   "cell_type": "code",
   "execution_count": null,
   "metadata": {},
   "outputs": [],
   "source": [
    "made, missed = made_missed_dfs(df, \"PLAYER\", \"PAPAGIANNIS, GEORGIOS\", round=6)"
   ]
  },
  {
   "cell_type": "code",
   "execution_count": null,
   "metadata": {},
   "outputs": [],
   "source": [
    "plot_scatter(made, missed, title='Papagiannis')"
   ]
  },
  {
   "cell_type": "code",
   "execution_count": null,
   "metadata": {},
   "outputs": [],
   "source": [
    "fg_made_home_df, fg_miss_home_df = made_missed_dfs(df, \"TEAM\", \"ULK\", round=6)\n",
    "\n",
    "fg_made_away_df, fg_miss_away_df = made_missed_dfs(df, \"TEAM\", \"OLY\", round=6)\n",
    "\n",
    "plot_scatter(fg_made_home_df, fg_miss_home_df, title='FEN')\n",
    "plot_scatter(fg_made_away_df, fg_miss_away_df, title='OLY')"
   ]
  },
  {
   "cell_type": "markdown",
   "metadata": {},
   "source": [
    "# Round 3"
   ]
  },
  {
   "cell_type": "code",
   "execution_count": null,
   "metadata": {},
   "outputs": [],
   "source": [
    "players = [\n",
    "    \"MANTZOUKAS, ELEFTHERIOS\",\n",
    "    \"PAPAGIANNIS, GEORGIOS\"\n",
    "]"
   ]
  },
  {
   "cell_type": "code",
   "execution_count": null,
   "metadata": {},
   "outputs": [],
   "source": [
    "for player in players:\n",
    "    fg_made_df, fg_miss_df = made_missed_dfs(df, \"PLAYER\", player)\n",
    "    plot_scatter(fg_made_df, fg_miss_df, title=player.split(\",\")[0].capitalize())"
   ]
  },
  {
   "cell_type": "code",
   "execution_count": null,
   "metadata": {},
   "outputs": [],
   "source": [
    "# split the home and away teams, their made and missed shots\n",
    "fg_made_home_df, fg_miss_home_df = made_missed_dfs(df, \"TEAM\", \"ULK\", gamecode=21)\n",
    "\n",
    "fg_made_away_df, fg_miss_away_df = made_missed_dfs(df, \"TEAM\", \"PAN\", gamecode=21)\n",
    "\n",
    "# scatter shot chart of PAOs\n",
    "plot_scatter(fg_made_home_df, fg_miss_home_df, title='PAO')\n",
    "\n",
    "# scatter shot chart of Fener\n",
    "plot_scatter(fg_made_away_df, fg_miss_away_df, title='Fener')"
   ]
  },
  {
   "cell_type": "markdown",
   "metadata": {},
   "source": [
    "# Round 2"
   ]
  },
  {
   "cell_type": "code",
   "execution_count": null,
   "metadata": {},
   "outputs": [],
   "source": [
    "# split the home and away teams, their made and missed shots\n",
    "fg_made_home_df, fg_miss_home_df = made_missed_dfs(df, \"TEAM\", \"PAN\", gamecode=13)\n",
    "\n",
    "fg_made_away_df, fg_miss_away_df = made_missed_dfs(df, \"TEAM\", \"MUN\", gamecode=13)"
   ]
  },
  {
   "cell_type": "code",
   "execution_count": null,
   "metadata": {},
   "outputs": [],
   "source": [
    "# scatter shot chart of PAOs\n",
    "plot_scatter(fg_made_home_df, fg_miss_home_df, title='PAO')\n",
    "\n",
    "# scatter shot chart of Efer\n",
    "plot_scatter(fg_made_away_df, fg_miss_away_df, title='Bayern')"
   ]
  },
  {
   "cell_type": "code",
   "execution_count": null,
   "metadata": {},
   "outputs": [],
   "source": [
    "# split the home and away teams, their made and missed shots\n",
    "fg_made_home_df, fg_miss_home_df = made_missed_dfs(df, \"TEAM\", \"OLY\", gamecode=16)\n",
    "\n",
    "fg_made_away_df, fg_miss_away_df = made_missed_dfs(df, \"TEAM\", \"BAR\", gamecode=16)\n",
    "\n",
    "# scatter shot chart of PAOs\n",
    "plot_scatter(fg_made_home_df, fg_miss_home_df, title='OLY')\n",
    "\n",
    "# scatter shot chart of Efer\n",
    "plot_scatter(fg_made_away_df, fg_miss_away_df, title='BAR')"
   ]
  },
  {
   "cell_type": "code",
   "execution_count": null,
   "metadata": {},
   "outputs": [],
   "source": [
    "# split the home and away teams, their made and missed shots\n",
    "fg_made_home_df, fg_miss_home_df = made_missed_dfs(df, \"TEAM\", \"IST\", gamecode=11)\n",
    "\n",
    "fg_made_away_df, fg_miss_away_df = made_missed_dfs(df, \"TEAM\", \"MAD\", gamecode=11)\n",
    "\n",
    "# scatter shot chart of PAOs\n",
    "plot_scatter(fg_made_home_df, fg_miss_home_df, title='EFES')\n",
    "\n",
    "# scatter shot chart of Efer\n",
    "plot_scatter(fg_made_away_df, fg_miss_away_df, title='REAL')"
   ]
  },
  {
   "cell_type": "markdown",
   "metadata": {},
   "source": [
    "# Round 1"
   ]
  },
  {
   "cell_type": "code",
   "execution_count": null,
   "metadata": {},
   "outputs": [],
   "source": [
    "# shots_df = df[df[\"MINUTE\"] > 40]\n",
    "shots_df = df.copy()"
   ]
  },
  {
   "cell_type": "code",
   "execution_count": null,
   "metadata": {},
   "outputs": [],
   "source": [
    "# df[(df[\"Round\"] == 1) & (df[\"TEAM\"] == \"OLY\")]"
   ]
  },
  {
   "cell_type": "code",
   "execution_count": null,
   "metadata": {},
   "outputs": [],
   "source": [
    "# split the home and away teams, their made and missed shots\n",
    "fg_made_home_df, fg_miss_home_df = made_missed_dfs(df, \"TEAM\", \"PAN\", gamecode=7)\n",
    "\n",
    "fg_made_away_df, fg_miss_away_df = made_missed_dfs(df, \"TEAM\", \"OLY\", gamecode=7)"
   ]
  },
  {
   "cell_type": "code",
   "execution_count": null,
   "metadata": {},
   "outputs": [],
   "source": [
    "# scatter shot chart of PAOs\n",
    "plot_scatter(fg_made_home_df, fg_miss_home_df, title='PAO')\n",
    "\n",
    "# scatter shot chart of Efer\n",
    "plot_scatter(fg_made_away_df, fg_miss_away_df, title='OLY')"
   ]
  },
  {
   "cell_type": "code",
   "execution_count": null,
   "metadata": {},
   "outputs": [],
   "source": [
    "players = [\n",
    "    \"GRIGONIS, MARIUS\",\n",
    "    \"CANAAN, ISAIAH\"\n",
    "]\n",
    "\n",
    "for player in players:\n",
    "    p1_made_df, p1_missed_df = made_missed_dfs(df, \"PLAYER\", player, gamecode=7)\n",
    "    plot_scatter(p1_made_df, p1_missed_df, title=player.split(\",\")[0].capitalize())"
   ]
  }
 ],
 "metadata": {
  "kernelspec": {
   "display_name": "euroleague_analysis",
   "language": "python",
   "name": "python3"
  },
  "language_info": {
   "codemirror_mode": {
    "name": "ipython",
    "version": 3
   },
   "file_extension": ".py",
   "mimetype": "text/x-python",
   "name": "python",
   "nbconvert_exporter": "python",
   "pygments_lexer": "ipython3",
   "version": "3.8.5"
  },
  "orig_nbformat": 4
 },
 "nbformat": 4,
 "nbformat_minor": 2
}
