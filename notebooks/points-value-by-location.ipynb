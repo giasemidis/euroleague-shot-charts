{
 "cells": [
  {
   "cell_type": "markdown",
   "metadata": {},
   "source": [
    "In this notebook we estimate the point values per court location, similar to this graphic https://www.instagram.com/p/DA_IjDyxtdv/?igsh=d2FmY2FtejBwbWw0 "
   ]
  },
  {
   "cell_type": "code",
   "execution_count": 1,
   "metadata": {},
   "outputs": [],
   "source": [
    "import sys\n",
    "import numpy as np\n",
    "import pandas as pd\n",
    "from matplotlib import pyplot as plt\n",
    "from euroleague_api.shot_data import ShotData\n",
    "\n",
    "sys.path.append(\"../utils/\")\n",
    "# from shot_chart_plots import fg_perc_hex_heatmap\n",
    "from draw_court import draw_court\n",
    "from get_new_zones import hexagon_zones\n",
    "# %matplotlib\n",
    "\n",
    "plt.close(\"all\")"
   ]
  },
  {
   "cell_type": "code",
   "execution_count": 3,
   "metadata": {},
   "outputs": [],
   "source": [
    "def plot_heatmap(df, gridsize, szn_min, szn_max):\n",
    "    x = df[\"COORD_X\"]\n",
    "    y = df[\"COORD_Y\"]\n",
    "    z = df[\"ratio\"]\n",
    "\n",
    "    if szn_min == szn_max:\n",
    "        title = f\"Season {szn_max}\"\n",
    "    else:\n",
    "        title = f\"Seasons {szn_min} - {szn_max}\"\n",
    "\n",
    "    cmap = plt.cm.PiYG\n",
    "    fig, ax = plt.subplots()\n",
    "    hb = ax.hexbin(x=x, y=y, C=z, gridsize=gridsize,\n",
    "                    extent=[-800, 800, -200, 1300],\n",
    "                    cmap=cmap, alpha=0.8, vmin=0., vmax=2)\n",
    "    cb = fig.colorbar(hb)\n",
    "    ax = draw_court(ax=ax, background=True, elogo=False, watermark=True)\n",
    "    plt.title(title)\n",
    "    plt.show()\n",
    "    return\n",
    "\n",
    "\n",
    "def point_value_by_hex_loc(df, gridsize=20, threshold=2.0):\n",
    "    df = hexagon_zones(df.copy(), gridsize=gridsize)\n",
    "    pivot_df = df.pivot_table(index=\"ZONE_HEX\", columns=\"ID_ACTION\", aggfunc=\"count\")[\"ACTION\"]\n",
    "    pivot_df[\"IS2PT\"] = np.where(pivot_df[\"2FGA\"].fillna(0) > pivot_df[\"3FGA\"].fillna(0), True, False)\n",
    "\n",
    "    two_fg_df = 2 * pivot_df.loc[pivot_df[\"IS2PT\"], \"2FGM\"] / pivot_df.loc[pivot_df[\"IS2PT\"], [\"2FGA\", \"2FGM\"]].sum(axis=1)\n",
    "    three_fg_df = 3 * pivot_df.loc[~pivot_df[\"IS2PT\"], \"3FGM\"] / pivot_df.loc[~pivot_df[\"IS2PT\"], [\"3FGA\", \"3FGM\"]].sum(axis=1)\n",
    "\n",
    "    fg_df = pd.concat([two_fg_df[two_fg_df.notna()], three_fg_df[three_fg_df.notna()]])\n",
    "    print(\"Consistency check:\", fg_df.shape, fg_df.index.unique().shape)\n",
    "    plot_df = fg_df.to_frame(\"ratio\").reset_index().merge(df[[\"COORD_X\", \"COORD_Y\", \"ZONE_HEX\"]], how=\"left\")\n",
    "    if not plot_df.groupby(\"ZONE_HEX\")[\"ratio\"].max().equals(plot_df.groupby(\"ZONE_HEX\")[\"ratio\"].min()):\n",
    "        print(\"Something is wrong after the merge.\")\n",
    "    plot_df = plot_df[plot_df[\"ratio\"] < threshold]\n",
    "\n",
    "    szn_min = df[\"Season\"].min()\n",
    "    szn_max = df[\"Season\"].max()\n",
    "    plot_heatmap(plot_df, gridsize, szn_min=szn_min, szn_max=szn_max)\n",
    "    return plot_df"
   ]
  },
  {
   "cell_type": "code",
   "execution_count": 4,
   "metadata": {},
   "outputs": [],
   "source": [
    "# Read input data (extracted elsewhere)\n",
    "file = \"~/Documents/euroleague_api/notebooks/data/shot_data_2007_2023.csv\"\n",
    "shot_df = pd.read_csv(file)"
   ]
  },
  {
   "cell_type": "code",
   "execution_count": null,
   "metadata": {},
   "outputs": [],
   "source": [
    "shot_df.shape"
   ]
  },
  {
   "cell_type": "code",
   "execution_count": 6,
   "metadata": {},
   "outputs": [],
   "source": [
    "gridsize = 20"
   ]
  },
  {
   "cell_type": "code",
   "execution_count": 7,
   "metadata": {},
   "outputs": [],
   "source": [
    "# snz_shot_df = corner_three_zones(snz_shot_df)\n",
    "# snz_shot_df = hexagon_zones(snz_shot_df, gridsize=gridsize)\n",
    "# fg_perc_hex_heatmap(snz_shot_df, gridsize=gridsize)"
   ]
  },
  {
   "cell_type": "markdown",
   "metadata": {},
   "source": [
    "# Season 2023 - 2024"
   ]
  },
  {
   "cell_type": "code",
   "execution_count": null,
   "metadata": {},
   "outputs": [],
   "source": [
    "snz_shot_df = shot_df[(shot_df[\"Season\"] == 2023)]\n",
    "_ = point_value_by_hex_loc(snz_shot_df)"
   ]
  },
  {
   "cell_type": "markdown",
   "metadata": {},
   "source": [
    "# Seasons 2019 - 2023"
   ]
  },
  {
   "cell_type": "code",
   "execution_count": null,
   "metadata": {},
   "outputs": [],
   "source": [
    "_ = snz_shot_df = shot_df[(shot_df[\"Season\"] <= 2023) & (shot_df[\"Season\"] >= 2019)]\n",
    "point_value_by_hex_loc(snz_shot_df)"
   ]
  },
  {
   "cell_type": "markdown",
   "metadata": {},
   "source": [
    "# Seasons 2007 - 2023"
   ]
  },
  {
   "cell_type": "code",
   "execution_count": null,
   "metadata": {},
   "outputs": [],
   "source": [
    "_ = snz_shot_df = shot_df.copy()\n",
    "point_value_by_hex_loc(snz_shot_df)"
   ]
  }
 ],
 "metadata": {
  "kernelspec": {
   "display_name": "euroleague-analysis",
   "language": "python",
   "name": "python3"
  },
  "language_info": {
   "codemirror_mode": {
    "name": "ipython",
    "version": 3
   },
   "file_extension": ".py",
   "mimetype": "text/x-python",
   "name": "python",
   "nbconvert_exporter": "python",
   "pygments_lexer": "ipython3",
   "version": "3.11.7"
  }
 },
 "nbformat": 4,
 "nbformat_minor": 2
}
