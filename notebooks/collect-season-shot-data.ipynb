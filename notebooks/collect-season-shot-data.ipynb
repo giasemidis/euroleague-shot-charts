{
 "cells": [
  {
   "cell_type": "markdown",
   "id": "83bcfb89-32b2-48cf-812e-b9127009349c",
   "metadata": {},
   "source": [
    "In this notebook, we collect the shot data for games of all available seasons in Euroleague (first available season is 2007)"
   ]
  },
  {
   "cell_type": "code",
   "execution_count": null,
   "id": "945f5369-93d9-4f18-902b-3527a2890e51",
   "metadata": {},
   "outputs": [],
   "source": [
    "import sys\n",
    "import pandas as pd\n",
    "sys.path.append(\"../utils/\")\n",
    "from get_data import get_season_shot_data, get_game_shot_data"
   ]
  },
  {
   "cell_type": "markdown",
   "id": "a88272be-333a-40dd-b8b2-61080e49eb63",
   "metadata": {},
   "source": [
    "# Fetch data for entire seasons"
   ]
  },
  {
   "cell_type": "code",
   "execution_count": null,
   "id": "e17f170e-0573-4b49-8bec-0bb968cc4f93",
   "metadata": {},
   "outputs": [],
   "source": [
    "start_season = 2007\n",
    "end_season = 2023"
   ]
  },
  {
   "cell_type": "code",
   "execution_count": null,
   "id": "e0b97255-ec70-4345-bea4-b2468ffe4ead",
   "metadata": {},
   "outputs": [],
   "source": [
    "for s in range(start_season, end_season):\n",
    "    data_df = get_season_shot_data(s)\n",
    "    if data_df is not None:\n",
    "        data_df.to_csv(f\"../data/shot-data-{s}-{s+1}.csv\", mode='w', header=True, index=False)"
   ]
  },
  {
   "cell_type": "markdown",
   "id": "b2a70b3e-f90e-4530-a447-63f2d1752688",
   "metadata": {
    "tags": []
   },
   "source": [
    "# Update in-progress season data"
   ]
  },
  {
   "cell_type": "code",
   "execution_count": null,
   "id": "cc8a4ce7-4e91-4f86-92a3-81ddd713155c",
   "metadata": {},
   "outputs": [],
   "source": [
    "curent_season = 2022\n",
    "\n",
    "n_teams = 18\n",
    "start_gamecode = 1\n",
    "up_to_round = 6"
   ]
  },
  {
   "cell_type": "code",
   "execution_count": null,
   "id": "8d3df815-40d1-4360-85da-3e94d88eadc7",
   "metadata": {},
   "outputs": [],
   "source": [
    "current_season_file = f\"../data/shot-data-{current_season}-{current_season + 1}.csv\""
   ]
  },
  {
   "cell_type": "code",
   "execution_count": null,
   "id": "ebf3a349-746d-446e-8fee-3b46265ac37c",
   "metadata": {},
   "outputs": [],
   "source": [
    "current_season_df = pd.read_csv(current_season_file)\n",
    "skip_gamecodes = current_season_df[\"Gamecode\"].unique()"
   ]
  },
  {
   "cell_type": "code",
   "execution_count": null,
   "id": "1daa0279-3728-4b7b-b347-63c4fee5aecf",
   "metadata": {},
   "outputs": [],
   "source": [
    "if isinstance(up_to_round, int):\n",
    "    up_to_round\n",
    "    end_gamecode = int((n_teams / 2) * up_to_round)\n",
    "else:\n",
    "    # max number of games in a league of n_teams\n",
    "    # including play-offs (4 * 5) and final-four (4)\n",
    "    end_gamecode = (n_teams * (n_teams - 1)) + 20 + 4"
   ]
  },
  {
   "cell_type": "code",
   "execution_count": null,
   "id": "7e2fea34-25ef-4e2e-9162-79dc3b2e3992",
   "metadata": {},
   "outputs": [],
   "source": [
    "df_list = []\n",
    "for gamecode in range(start_gamecode, end_gamecode + 1):\n",
    "    if gamecode in skip_gamecodes:\n",
    "        continue\n",
    "    df_list.append(get_game_shot_data(gamecode, 2021))\n",
    "df = pd.concat(df_list, axis=0)"
   ]
  },
  {
   "cell_type": "code",
   "execution_count": null,
   "id": "a8fcb9a4-9a23-4cb2-93b3-b9055fa00289",
   "metadata": {},
   "outputs": [],
   "source": [
    "df.to_csv(current_season_file, mode='a', index=False, header=False)"
   ]
  }
 ],
 "metadata": {
  "kernelspec": {
   "display_name": "Python 3 (ipykernel)",
   "language": "python",
   "name": "python3"
  },
  "language_info": {
   "codemirror_mode": {
    "name": "ipython",
    "version": 3
   },
   "file_extension": ".py",
   "mimetype": "text/x-python",
   "name": "python",
   "nbconvert_exporter": "python",
   "pygments_lexer": "ipython3",
   "version": "3.8.5"
  }
 },
 "nbformat": 4,
 "nbformat_minor": 5
}
