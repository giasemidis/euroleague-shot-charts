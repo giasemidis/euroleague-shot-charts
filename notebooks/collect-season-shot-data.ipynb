{
 "cells": [
  {
   "cell_type": "markdown",
   "id": "83bcfb89-32b2-48cf-812e-b9127009349c",
   "metadata": {},
   "source": [
    "In this notebook, we collect the shot data for games of all available seasons in Euroleague (first available season is 2007)"
   ]
  },
  {
   "cell_type": "code",
   "execution_count": null,
   "id": "945f5369-93d9-4f18-902b-3527a2890e51",
   "metadata": {},
   "outputs": [],
   "source": [
    "import sys\n",
    "sys.path.append(\"../utils/\")\n",
    "from get_data import get_season_shot_data"
   ]
  },
  {
   "cell_type": "code",
   "execution_count": null,
   "id": "e0b97255-ec70-4345-bea4-b2468ffe4ead",
   "metadata": {},
   "outputs": [],
   "source": [
    "for s in range(2007, 2021):\n",
    "    data_df = get_season_shot_data(s)\n",
    "    if data_df is not None:\n",
    "        data_df.to_csv(f\"../data/shot-data-{s}-{s+1}.csv\", mode='w', header=True, index=False)"
   ]
  }
 ],
 "metadata": {
  "kernelspec": {
   "display_name": "Python 3 (ipykernel)",
   "language": "python",
   "name": "python3"
  },
  "language_info": {
   "codemirror_mode": {
    "name": "ipython",
    "version": 3
   },
   "file_extension": ".py",
   "mimetype": "text/x-python",
   "name": "python",
   "nbconvert_exporter": "python",
   "pygments_lexer": "ipython3",
   "version": "3.8.5"
  }
 },
 "nbformat": 4,
 "nbformat_minor": 5
}
