{
 "cells": [
  {
   "cell_type": "code",
   "execution_count": null,
   "metadata": {},
   "outputs": [],
   "source": [
    "import os\n",
    "import sys\n",
    "import pandas as pd\n",
    "\n",
    "from matplotlib import pyplot as plt\n",
    "\n",
    "sys.path.append(\"../utils/\")\n",
    "from draw_court import draw_court\n",
    "from shot_chart_plots import plot_scatter, joint_plot, fg_perc_hex_heatmap\n",
    "%matplotlib ipympl\n",
    "\n",
    "plt.close(\"all\")"
   ]
  },
  {
   "cell_type": "code",
   "execution_count": null,
   "metadata": {},
   "outputs": [],
   "source": [
    "def made_missed_dfs(df, field, value, gamecode=None, round=None):\n",
    "    if gamecode is not None:\n",
    "        temp_df = df[(df[field] == value) & (df[\"Gamecode\"] == gamecode)]\n",
    "    elif round is not None:\n",
    "        temp_df = df[(df[field] == value) & (df[\"Round\"] == round)]\n",
    "    else:\n",
    "        temp_df = df[df[field] == value]\n",
    "    fg_made_df = temp_df[temp_df['ID_ACTION'].isin(['2FGM', '3FGM'])]\n",
    "    fg_miss_df = temp_df[temp_df['ID_ACTION'].isin(['2FGA', '3FGA'])]\n",
    "    return fg_made_df, fg_miss_df"
   ]
  },
  {
   "cell_type": "code",
   "execution_count": null,
   "metadata": {},
   "outputs": [],
   "source": [
    "data_dir = \"c:/Users/giase/Documents/euroleague_api/notebooks/data\""
   ]
  },
  {
   "cell_type": "code",
   "execution_count": null,
   "metadata": {},
   "outputs": [],
   "source": [
    "file = \"shot_data_eurocup_2023.csv\""
   ]
  },
  {
   "cell_type": "code",
   "execution_count": null,
   "metadata": {},
   "outputs": [],
   "source": [
    "df = pd.read_csv(os.path.join(data_dir, file))"
   ]
  },
  {
   "cell_type": "code",
   "execution_count": null,
   "metadata": {},
   "outputs": [],
   "source": [
    "df[\"ID_ACTION\"].unique()"
   ]
  },
  {
   "cell_type": "code",
   "execution_count": null,
   "metadata": {},
   "outputs": [],
   "source": [
    "df = df[df[\"ID_ACTION\"] != \"FTM\"].copy()"
   ]
  },
  {
   "cell_type": "code",
   "execution_count": null,
   "metadata": {},
   "outputs": [],
   "source": [
    "df[\"TEAM\"].unique()"
   ]
  },
  {
   "cell_type": "code",
   "execution_count": null,
   "metadata": {},
   "outputs": [],
   "source": [
    "lli_df = df[df[\"TEAM\"] == \"LLI\"].copy()\n",
    "prb_df = df[df[\"TEAM\"] == \"PRS\"].copy()"
   ]
  },
  {
   "cell_type": "code",
   "execution_count": null,
   "metadata": {},
   "outputs": [],
   "source": [
    "# split the home and away teams, their made and missed shots\n",
    "fg_made_home_df, fg_miss_home_df = made_missed_dfs(df, \"TEAM\", \"LLI\")\n",
    "fg_made_away_df, fg_miss_away_df = made_missed_dfs(df, \"TEAM\", \"PRS\")"
   ]
  },
  {
   "cell_type": "code",
   "execution_count": null,
   "metadata": {},
   "outputs": [],
   "source": [
    "plot_scatter(fg_made_home_df, fg_miss_home_df, title='London Lions')\n",
    "plot_scatter(fg_made_away_df, fg_miss_away_df, title='Paris Basketball')"
   ]
  },
  {
   "cell_type": "code",
   "execution_count": null,
   "metadata": {},
   "outputs": [],
   "source": [
    "joint_plot(lli_df, gridsize=9, title=\"London Lions: Volume of shots\")\n",
    "joint_plot(prb_df, gridsize=9, title=\"Paris Basketball: Volume of shots\")"
   ]
  },
  {
   "cell_type": "code",
   "execution_count": null,
   "metadata": {},
   "outputs": [],
   "source": [
    "fg_perc_hex_heatmap(lli_df, gridsize=9, mincnt=5, title=\"London Lions: FG% by Location\", background=False)\n",
    "fg_perc_hex_heatmap(prb_df, gridsize=9, mincnt=5, title=\"Paris Basketball: FG% by Location\", background=False)\n"
   ]
  }
 ],
 "metadata": {
  "kernelspec": {
   "display_name": "euroleague_analysis",
   "language": "python",
   "name": "python3"
  },
  "language_info": {
   "codemirror_mode": {
    "name": "ipython",
    "version": 3
   },
   "file_extension": ".py",
   "mimetype": "text/x-python",
   "name": "python",
   "nbconvert_exporter": "python",
   "pygments_lexer": "ipython3",
   "version": "3.11.7"
  },
  "orig_nbformat": 4
 },
 "nbformat": 4,
 "nbformat_minor": 2
}
