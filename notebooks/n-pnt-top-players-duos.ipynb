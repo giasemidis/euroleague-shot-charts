{
 "cells": [
  {
   "cell_type": "markdown",
   "metadata": {},
   "source": [
    "In this notebook, we find \n",
    "1. The number of games by a player with at least N+ points by season\n",
    "2. The pair of players who have scored at least N points in a single game \n",
    "3. The number of games where the top two players in the team have scored at least N points"
   ]
  },
  {
   "cell_type": "code",
   "execution_count": 1,
   "metadata": {},
   "outputs": [],
   "source": [
    "import pandas as pd\n",
    "from euroleague_api.boxscore_data import BoxScoreData"
   ]
  },
  {
   "cell_type": "markdown",
   "metadata": {},
   "source": [
    "# Load data"
   ]
  },
  {
   "cell_type": "markdown",
   "metadata": {},
   "source": [
    "## Historical"
   ]
  },
  {
   "cell_type": "code",
   "execution_count": 3,
   "metadata": {},
   "outputs": [],
   "source": [
    "file = \"C:/Users/giase/Documents/euroleague_api/notebooks/data/player_boxscore_stats_2007_2023.csv\"\n",
    "hist_df = pd.read_csv(file)"
   ]
  },
  {
   "cell_type": "markdown",
   "metadata": {},
   "source": [
    "## Current Season"
   ]
  },
  {
   "cell_type": "code",
   "execution_count": null,
   "metadata": {},
   "outputs": [],
   "source": [
    "season = 2024\n",
    "boxscore_data = BoxScoreData(\"E\")\n",
    "player_bxs_df = boxscore_data.get_player_boxscore_stats_single_season(season)\n",
    "player_bxs_df.to_csv(f\"player_boxscore_stats_{season}.csv\", index=False)"
   ]
  },
  {
   "cell_type": "markdown",
   "metadata": {},
   "source": [
    "## Merge"
   ]
  },
  {
   "cell_type": "code",
   "execution_count": 6,
   "metadata": {},
   "outputs": [],
   "source": [
    "df = pd.concat([hist_df, player_bxs_df], axis=0)"
   ]
  },
  {
   "cell_type": "code",
   "execution_count": null,
   "metadata": {},
   "outputs": [],
   "source": [
    "df.columns"
   ]
  },
  {
   "cell_type": "markdown",
   "metadata": {},
   "source": [
    "# Data Processing"
   ]
  },
  {
   "cell_type": "code",
   "execution_count": null,
   "metadata": {},
   "outputs": [],
   "source": [
    "mask = (df[\"Player_ID\"] != \"Team\") & (df[\"Player_ID\"] != \"Total\")\n",
    "player_df = df[mask].reset_index(drop=True)"
   ]
  },
  {
   "cell_type": "markdown",
   "metadata": {},
   "source": [
    "# Top players and pairs"
   ]
  },
  {
   "cell_type": "code",
   "execution_count": 13,
   "metadata": {},
   "outputs": [],
   "source": [
    "def get_pair_of_players_in_same_game(df, n_points):\n",
    "    filtered_df = df[df[\"Points\"] >= n_points].copy()\n",
    "    # Group by Season and Gamecode, then filter for games with more than one player\n",
    "    # scoring more than `n_points` points\n",
    "    grouped = filtered_df.groupby(['Season', 'Gamecode']).filter(\n",
    "        lambda x: (x['Points'] >= n_points).sum() > 1\n",
    "    )\n",
    "    # Create a new dataframe to store pairs of players and their count\n",
    "    player_pairs = []\n",
    "\n",
    "    # Iterate through each season and gamecode group\n",
    "    for (season, _, team), group in grouped.groupby(['Season', 'Gamecode', 'Team']):\n",
    "        # Get all players who scored more than `n_points` points in the game\n",
    "        players = sorted(group[group['Points'] >= n_points]['Player'].tolist())\n",
    "        # Create pairs of players\n",
    "        for i in range(len(players)):\n",
    "            for j in range(i + 1, len(players)):\n",
    "                player_pairs.append((season, team, players[i], players[j]))\n",
    "\n",
    "    # Convert the list to a dataframe\n",
    "    cols = ['Season',\"Team\", 'Player1', 'Player2']\n",
    "    player_pairs_df = pd.DataFrame(player_pairs, columns=cols)\n",
    "\n",
    "    # Count the number of times each pair appears\n",
    "    pair_counts = player_pairs_df.groupby(cols).size().reset_index(name='Count')\n",
    "    return pair_counts"
   ]
  },
  {
   "cell_type": "code",
   "execution_count": 18,
   "metadata": {},
   "outputs": [],
   "source": [
    "def get_n_games_with_n_points_by_player(df, n_points):\n",
    "    filtered_df = df[df[\"Points\"] >= n_points].copy()\n",
    "\n",
    "    # Group by Season and Player, then count the number of games each player scored\n",
    "    # more than `n_points` points\n",
    "    player_counts = filtered_df.groupby(\n",
    "        ['Season', \"Team\", 'Player']).size().reset_index(name='Count')\n",
    "\n",
    "    # Sort the result by Season and Count in descending order\n",
    "    player_counts = player_counts.sort_values(['Season', 'Count'], ascending=[False, False])\n",
    "\n",
    "    return player_counts\n",
    "\n",
    "\n",
    "def get_n_games_n_points_top_two_players_by_team(df, n_points):\n",
    "    player_counts = get_n_games_with_n_points_by_player(df, n_points)\n",
    "    top_2_players = player_counts.groupby(['Season', 'Team']).apply(\n",
    "        lambda x: x.nlargest(2, 'Count')).reset_index(drop=True)\n",
    "    top_2_counts = top_2_players.groupby(['Season', 'Team'])['Count'].sum().reset_index()\n",
    "    return top_2_counts\n"
   ]
  },
  {
   "cell_type": "code",
   "execution_count": null,
   "metadata": {},
   "outputs": [],
   "source": [
    "n_points = 20"
   ]
  },
  {
   "cell_type": "code",
   "execution_count": null,
   "metadata": {},
   "outputs": [],
   "source": [
    "top_pairs_df = get_pair_of_players_in_same_game(player_df, 20)\n",
    "top_pairs_df.sort_values(\"Count\", ascending=False).head(20).reset_index(drop=True)"
   ]
  },
  {
   "cell_type": "code",
   "execution_count": null,
   "metadata": {},
   "outputs": [],
   "source": [
    "top_scorers_df = get_n_games_with_n_points_by_player(player_df, 20)\n",
    "top_scorers_df.sort_values(\"Count\", ascending=False).head(30).reset_index(drop=True)\n",
    "top_scorers_df[top_scorers_df[\"Season\"] == 2024].head(20).reset_index(drop=True)"
   ]
  },
  {
   "cell_type": "code",
   "execution_count": null,
   "metadata": {},
   "outputs": [],
   "source": [
    "teams_top_pairs_df = get_n_games_n_points_top_two_players_by_team(player_df, 20)\n",
    "teams_top_pairs_df.sort_values(\"Count\", ascending=False).head(20).reset_index(drop=True)"
   ]
  }
 ],
 "metadata": {
  "kernelspec": {
   "display_name": "euroleague-analysis",
   "language": "python",
   "name": "python3"
  },
  "language_info": {
   "codemirror_mode": {
    "name": "ipython",
    "version": 3
   },
   "file_extension": ".py",
   "mimetype": "text/x-python",
   "name": "python",
   "nbconvert_exporter": "python",
   "pygments_lexer": "ipython3",
   "version": "3.11.7"
  }
 },
 "nbformat": 4,
 "nbformat_minor": 2
}
