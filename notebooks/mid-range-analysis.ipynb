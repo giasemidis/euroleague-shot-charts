{
 "cells": [
  {
   "cell_type": "code",
   "execution_count": null,
   "metadata": {},
   "outputs": [],
   "source": [
    "import os\n",
    "import sys\n",
    "import pandas as pd\n",
    "\n",
    "from matplotlib import pyplot as plt\n",
    "\n",
    "sys.path.append(\"../utils/\")\n",
    "from shot_chart_plots import plot_scatter\n",
    "%matplotlib\n",
    "\n",
    "plt.close(\"all\")"
   ]
  },
  {
   "cell_type": "code",
   "execution_count": null,
   "metadata": {},
   "outputs": [],
   "source": [
    "data_dir = \"~/Documents/DataScience/Projects/euroleague_api/notebooks/data\""
   ]
  },
  {
   "cell_type": "code",
   "execution_count": null,
   "metadata": {},
   "outputs": [],
   "source": [
    "shot_df = pd.read_csv(os.path.join(data_dir, \"shot_data_2023.csv\"))"
   ]
  },
  {
   "cell_type": "markdown",
   "metadata": {},
   "source": [
    "# Shot Data"
   ]
  },
  {
   "cell_type": "code",
   "execution_count": null,
   "metadata": {},
   "outputs": [],
   "source": [
    "shot_df[\"ZONE\"].unique()"
   ]
  },
  {
   "cell_type": "code",
   "execution_count": null,
   "metadata": {},
   "outputs": [],
   "source": [
    "mid_range_zones = [\"D\", \"E\", \"F\", \"G\"]"
   ]
  },
  {
   "cell_type": "code",
   "execution_count": null,
   "metadata": {},
   "outputs": [],
   "source": [
    "non_mid_range_zones = [u for u in shot_df[\"ZONE\"].unique() if u not in mid_range_zones + [\" \"]]"
   ]
  },
  {
   "cell_type": "code",
   "execution_count": null,
   "metadata": {},
   "outputs": [],
   "source": [
    "team_shots_by_zone_df = shot_df.pivot_table(index=\"TEAM\", columns=\"ZONE\", values=\"ID_ACTION\", aggfunc=\"count\")"
   ]
  },
  {
   "cell_type": "code",
   "execution_count": null,
   "metadata": {},
   "outputs": [],
   "source": [
    "team_perc_midrange_df = (team_shots_by_zone_df[mid_range_zones].sum(axis=1) / team_shots_by_zone_df[non_mid_range_zones + mid_range_zones].sum(axis=1)).sort_values()\n",
    "team_perc_midrange_df"
   ]
  },
  {
   "cell_type": "code",
   "execution_count": null,
   "metadata": {},
   "outputs": [],
   "source": [
    "for zone in shot_df.ZONE.unique():\n",
    "    zone_df = shot_df[shot_df[\"ZONE\"] == zone]\n",
    "    made = zone_df[zone_df['ID_ACTION'].isin(['2FGM', '3FGM'])]\n",
    "    missed = zone_df[zone_df['ID_ACTION'].isin(['2FGA', '3FGA'])]\n",
    "    plot_scatter(made, missed, title=zone)"
   ]
  },
  {
   "cell_type": "code",
   "execution_count": null,
   "metadata": {},
   "outputs": [],
   "source": [
    "# ensure the shot is for 2. There are some data irregularities where a 3PT shot is registered in the mid-range zones.\n",
    "midrange_df = shot_df[shot_df[\"ZONE\"].isin(mid_range_zones) & shot_df[\"ID_ACTION\"].isin(['2FGM', '2FGA'])]"
   ]
  },
  {
   "cell_type": "code",
   "execution_count": null,
   "metadata": {},
   "outputs": [],
   "source": [
    "n_shots_df = shot_df.groupby([\"Gamecode\", \"TEAM\"])[[\"Season\"]].count()\n",
    "n_midrange_df = midrange_df.groupby([\"Gamecode\", \"TEAM\"])[[\"Season\"]].count()"
   ]
  },
  {
   "cell_type": "code",
   "execution_count": null,
   "metadata": {},
   "outputs": [],
   "source": [
    "# some team register no midrange shots, count the total shots too and merge (outer) to ensure all gamecodes and teams are considered\n",
    "n_midrange_total_df = n_midrange_df.merge(n_shots_df, left_index=True, right_index=True, how=\"outer\")\n",
    "n_midrange_total_df.columns = [\"midrange\", \"total\"]\n",
    "n_midrange_total_df.fillna(0, inplace=True)\n",
    "n_midrange_total_df.head()"
   ]
  },
  {
   "cell_type": "code",
   "execution_count": null,
   "metadata": {},
   "outputs": [],
   "source": [
    "n_fg_shots_df = shot_df[shot_df[\"ID_ACTION\"].isin(['2FGM', '3FGM', '2FGA', '3FGA'])].groupby([\"Gamecode\", \"TEAM\"])[\"Season\"].count()"
   ]
  },
  {
   "cell_type": "code",
   "execution_count": null,
   "metadata": {},
   "outputs": [],
   "source": [
    "merged_df = pd.merge(n_midrange_total_df, n_fg_shots_df, left_index=True, right_index=True)\n",
    "merged_df.columns = [\"midrange\", \"total\", \"fg\"]\n",
    "merged_df[\"perc\"] = merged_df[\"midrange\"] / merged_df[\"fg\"]\n",
    "merged_df"
   ]
  },
  {
   "cell_type": "code",
   "execution_count": null,
   "metadata": {},
   "outputs": [],
   "source": [
    "# Same as above, some teams shot no midrange, count the total 2PTs (i.e. layups too) and merge so that there no missing teams after the groupby\n",
    "# n_made_missed_midrange_df = midrange_df.groupby([\"Gamecode\", \"TEAM\", \"ID_ACTION\"])[[\"Season\"]].count()\n",
    "# n_made_missed_shots_df = shot_df[shot_df[\"ID_ACTION\"].isin(['2FGM', '2FGA'])].groupby([\"Gamecode\", \"TEAM\", \"ID_ACTION\"])[[\"Season\"]].count()"
   ]
  },
  {
   "cell_type": "code",
   "execution_count": null,
   "metadata": {},
   "outputs": [],
   "source": [
    "# n_made_missed_midrange_total2pt_df = n_made_missed_midrange_df.merge(n_made_missed_shots_df, left_index=True, right_index=True, how=\"outer\")\n",
    "# n_made_missed_midrange_total2pt_df.columns = [\"midrage\", \"total\"]\n",
    "# n_made_missed_midrange_total2pt_df.fillna(0, inplace=True)\n",
    "# n_made_missed_midrange_total2pt_df.head()"
   ]
  },
  {
   "cell_type": "code",
   "execution_count": null,
   "metadata": {},
   "outputs": [],
   "source": [
    "merged_df[\"t\"] = [\"A\", \"B\"] * int(merged_df.shape[0] / 2 )\n",
    "merged_reshaped_df = merged_df.reset_index().pivot(index=\"Gamecode\", columns=\"t\")[[\"TEAM\", \"perc\"]]\n",
    "merged_reshaped_df.columns = [\"Team_A\", \"Team_B\", \"Midrange_perc_A\", \"Midrange_perc_B\"]\n",
    "merged_reshaped_df.head()"
   ]
  },
  {
   "cell_type": "markdown",
   "metadata": {},
   "source": [
    "# Game Report"
   ]
  },
  {
   "cell_type": "code",
   "execution_count": null,
   "metadata": {},
   "outputs": [],
   "source": [
    "game_report_df = pd.read_csv(os.path.join(data_dir, \"game_report_2023.csv\"))"
   ]
  },
  {
   "cell_type": "code",
   "execution_count": null,
   "metadata": {},
   "outputs": [],
   "source": [
    "game_report_df.head()"
   ]
  },
  {
   "cell_type": "code",
   "execution_count": null,
   "metadata": {},
   "outputs": [],
   "source": [
    "abbr_to_name_dict = game_report_df[[\"road.club.code\", \"road.club.name\"]].drop_duplicates().set_index(\"road.club.code\").to_dict()[\"road.club.name\"]"
   ]
  },
  {
   "cell_type": "code",
   "execution_count": null,
   "metadata": {},
   "outputs": [],
   "source": [
    "game_report_trunc_df = game_report_df[[\"Gamecode\", \"Round\", \"local.club.code\", \"road.club.code\", \"local.score\", \"road.score\"]]"
   ]
  },
  {
   "cell_type": "markdown",
   "metadata": {},
   "source": [
    "# Merge Game Report with Shot data analysis"
   ]
  },
  {
   "cell_type": "code",
   "execution_count": null,
   "metadata": {},
   "outputs": [],
   "source": [
    "master_table = merged_reshaped_df.reset_index().merge(game_report_df, on=\"Gamecode\")"
   ]
  },
  {
   "cell_type": "code",
   "execution_count": null,
   "metadata": {},
   "outputs": [],
   "source": [
    "master_table[\"home_win\"] = master_table[\"local.score\"] > master_table[\"road.score\"]"
   ]
  },
  {
   "cell_type": "code",
   "execution_count": null,
   "metadata": {},
   "outputs": [],
   "source": [
    "master_table.head()"
   ]
  },
  {
   "cell_type": "code",
   "execution_count": null,
   "metadata": {},
   "outputs": [],
   "source": [
    "for i, row in master_table.iterrows():\n",
    "    # break\n",
    "    if (row[[\"Team_A\", \"Team_B\"]].values == row[[\"local.club.code\", \"road.club.code\"]].values).all():\n",
    "        continue\n",
    "    else:\n",
    "        master_table.loc[i, [\"Team_A\", \"Team_B\"]] = row[[\"Team_B\", \"Team_A\"]].values\n",
    "        master_table.loc[i, [\"Midrange_perc_A\", \"Midrange_perc_B\"]] = row[[\"Midrange_perc_B\", \"Midrange_perc_A\"]].values"
   ]
  },
  {
   "cell_type": "code",
   "execution_count": null,
   "metadata": {},
   "outputs": [],
   "source": [
    "master_table[\"home_greater_midrange_volume\"] = master_table[\"Midrange_perc_A\"] > master_table[\"Midrange_perc_B\"]\n",
    "master_table.head()"
   ]
  },
  {
   "cell_type": "code",
   "execution_count": null,
   "metadata": {},
   "outputs": [],
   "source": [
    "n_wins_with_fewer_mid_range = (master_table[\"home_win\"] & (~master_table[\"home_greater_midrange_volume\"])).sum() + (~master_table[\"home_win\"] & (master_table[\"home_greater_midrange_volume\"])).sum()\n",
    "n_games = master_table.shape[0]\n",
    "ratio = n_wins_with_fewer_mid_range / n_games\n",
    "print(ratio)"
   ]
  },
  {
   "cell_type": "code",
   "execution_count": null,
   "metadata": {},
   "outputs": [],
   "source": [
    "# master_table.pivot_table(index=\"home_midrange_volume\", columns=\"home_win\", values=\"Gamecode\", aggfunc=\"count\")"
   ]
  }
 ],
 "metadata": {
  "kernelspec": {
   "display_name": "euroleague_analysis",
   "language": "python",
   "name": "python3"
  },
  "language_info": {
   "codemirror_mode": {
    "name": "ipython",
    "version": 3
   },
   "file_extension": ".py",
   "mimetype": "text/x-python",
   "name": "python",
   "nbconvert_exporter": "python",
   "pygments_lexer": "ipython3",
   "version": "3.8.5"
  }
 },
 "nbformat": 4,
 "nbformat_minor": 2
}
