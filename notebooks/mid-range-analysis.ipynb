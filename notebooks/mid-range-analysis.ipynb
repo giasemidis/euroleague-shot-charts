{
 "cells": [
  {
   "cell_type": "code",
   "execution_count": null,
   "metadata": {},
   "outputs": [],
   "source": [
    "import os\n",
    "import sys\n",
    "import pandas as pd\n",
    "import numpy as np\n",
    "import statsmodels.api as sm\n",
    "\n",
    "import plotly.express as px\n",
    "from plotly import graph_objs as go\n",
    "from matplotlib import pyplot as plt\n",
    "\n",
    "sys.path.append(\"../utils/\")\n",
    "from shot_chart_plots import plot_scatter, plot_scatter_single_df\n",
    "# %matplotlib\n",
    "\n",
    "plt.close(\"all\")"
   ]
  },
  {
   "cell_type": "code",
   "execution_count": null,
   "metadata": {},
   "outputs": [],
   "source": [
    "data_dir = \"~/Documents/euroleague_api/notebooks/data\""
   ]
  },
  {
   "cell_type": "code",
   "execution_count": null,
   "metadata": {},
   "outputs": [],
   "source": [
    "mid_range_x = (-245, 245)\n",
    "mid_range_y = 422.5"
   ]
  },
  {
   "cell_type": "markdown",
   "metadata": {},
   "source": [
    "# Shot Data"
   ]
  },
  {
   "cell_type": "code",
   "execution_count": null,
   "metadata": {},
   "outputs": [],
   "source": [
    "shot_df = pd.read_csv(os.path.join(data_dir, \"shot_data_2023.csv\"))"
   ]
  },
  {
   "cell_type": "code",
   "execution_count": null,
   "metadata": {},
   "outputs": [],
   "source": [
    "shot_df[['Season', 'Phase', 'Round', 'Gamecode', 'NUM_ANOT', 'TEAM', 'ID_PLAYER',\n",
    "       'PLAYER', 'ID_ACTION', 'ACTION', 'POINTS', 'COORD_X', 'COORD_Y', 'ZONE', 'MINUTE',\n",
    "       'CONSOLE', 'POINTS_A', 'POINTS_B', 'UTC']].head()"
   ]
  },
  {
   "cell_type": "code",
   "execution_count": null,
   "metadata": {},
   "outputs": [],
   "source": [
    "shot_df[\"Round\"].unique()"
   ]
  },
  {
   "cell_type": "code",
   "execution_count": null,
   "metadata": {},
   "outputs": [],
   "source": [
    "shot_df[\"ZONE\"].unique()"
   ]
  },
  {
   "cell_type": "code",
   "execution_count": null,
   "metadata": {},
   "outputs": [],
   "source": [
    "# for zone in np.unique(shot_df.ZONE):\n",
    "#     zone_df = shot_df[shot_df[\"ZONE\"] == zone]\n",
    "#     made = zone_df[zone_df['ID_ACTION'].isin(['2FGM', '3FGM'])]\n",
    "#     missed = zone_df[zone_df['ID_ACTION'].isin(['2FGA', '3FGA'])]\n",
    "#     plot_scatter(made, missed, title=zone)"
   ]
  },
  {
   "cell_type": "code",
   "execution_count": null,
   "metadata": {},
   "outputs": [],
   "source": [
    "mid_range_zones = [\"D\", \"E\", \"F\", \"G\"]\n",
    "non_mid_range_zones = [u for u in shot_df[\"ZONE\"].unique() if u not in mid_range_zones + [\" \"]]\n",
    "fg_zones = mid_range_zones + non_mid_range_zones"
   ]
  },
  {
   "cell_type": "code",
   "execution_count": null,
   "metadata": {},
   "outputs": [],
   "source": [
    "# ensure the shot is for 2. There are some data irregularities where a 3PT shot is registered in the mid-range zones.\n",
    "mid_range_mask = (\n",
    "    shot_df[\"ZONE\"].isin(mid_range_zones) &\n",
    "    shot_df[\"ID_ACTION\"].isin(['2FGM', '2FGA']) &\n",
    "    (\n",
    "        (shot_df[\"COORD_X\"] < mid_range_x[0]) | (shot_df[\"COORD_X\"] > mid_range_x[1]) | (shot_df[\"COORD_Y\"] > mid_range_y)\n",
    "    )\n",
    ")"
   ]
  },
  {
   "cell_type": "code",
   "execution_count": null,
   "metadata": {},
   "outputs": [],
   "source": [
    "midrange_df = shot_df[mid_range_mask]\n",
    "fg_df =  shot_df[shot_df[\"ZONE\"].isin(fg_zones)]"
   ]
  },
  {
   "cell_type": "code",
   "execution_count": null,
   "metadata": {},
   "outputs": [],
   "source": [
    "fg_df[\"ID_ACTION\"].unique()"
   ]
  },
  {
   "cell_type": "code",
   "execution_count": null,
   "metadata": {},
   "outputs": [],
   "source": [
    "plot_scatter_single_df(midrange_df, title=\"Mid-range attempts until round 17 2023-2024\")"
   ]
  },
  {
   "cell_type": "code",
   "execution_count": null,
   "metadata": {},
   "outputs": [],
   "source": [
    "mid_range_shots_by_team_df = midrange_df.groupby(\"TEAM\").count()[\"ID_ACTION\"]\n",
    "fg_by_team_df = fg_df.groupby(\"TEAM\").count()[\"ID_ACTION\"]\n",
    "print((mid_range_shots_by_team_df.index == fg_by_team_df.index).all())\n",
    "team_perc_midrange_df = (mid_range_shots_by_team_df / fg_by_team_df).sort_values()\n",
    "team_perc_midrange_df"
   ]
  },
  {
   "cell_type": "code",
   "execution_count": null,
   "metadata": {},
   "outputs": [],
   "source": [
    "n_fg_df = fg_df.groupby([\"Gamecode\", \"TEAM\"])[[\"Season\"]].count()\n",
    "n_midrange_df = midrange_df.groupby([\"Gamecode\", \"TEAM\"])[[\"Season\"]].count()"
   ]
  },
  {
   "cell_type": "code",
   "execution_count": null,
   "metadata": {},
   "outputs": [],
   "source": [
    "# some team register no midrange shots, count the total shots too and merge (outer) to ensure all gamecodes and teams are considered\n",
    "n_midrange_fg_df = n_midrange_df.merge(n_fg_df, left_index=True, right_index=True, how=\"outer\")\n",
    "n_midrange_fg_df.columns = [\"midrange\", \"fg\"]\n",
    "n_midrange_fg_df.fillna(0, inplace=True)\n",
    "n_midrange_fg_df[\"midrange_perc\"] = n_midrange_fg_df[\"midrange\"] / n_midrange_fg_df[\"fg\"]\n",
    "n_midrange_fg_df.head()"
   ]
  },
  {
   "cell_type": "code",
   "execution_count": null,
   "metadata": {},
   "outputs": [],
   "source": [
    "n_midrange_fg_df[\"t\"] = [\"A\", \"B\"] * int(n_midrange_fg_df.shape[0] / 2 )\n",
    "merged_reshaped_df = n_midrange_fg_df.reset_index().pivot(index=\"Gamecode\", columns=\"t\")[[\"TEAM\", \"midrange_perc\"]]\n",
    "merged_reshaped_df.columns = [\"Team_A\", \"Team_B\", \"Midrange_perc_A\", \"Midrange_perc_B\"]\n",
    "merged_reshaped_df.head()"
   ]
  },
  {
   "cell_type": "markdown",
   "metadata": {},
   "source": [
    "# Stadndings data"
   ]
  },
  {
   "cell_type": "code",
   "execution_count": null,
   "metadata": {},
   "outputs": [],
   "source": [
    "standings_df = pd.read_csv(os.path.join(data_dir, \"standings_2023_17.csv\"))"
   ]
  },
  {
   "cell_type": "markdown",
   "metadata": {},
   "source": [
    "# Merge Midrange % with Win %"
   ]
  },
  {
   "cell_type": "code",
   "execution_count": null,
   "metadata": {},
   "outputs": [],
   "source": [
    "standings_percmidrange_df = standings_df[[\"club.code\", \"club.name\", \"winPercentage\"]].merge(\n",
    "    team_perc_midrange_df.reset_index(), left_on=\"club.code\", right_on=\"TEAM\")\n",
    "standings_percmidrange_df[\"winPercentage\"] = standings_percmidrange_df[\"winPercentage\"].str.replace(\"%\", \"\").astype(float)\n",
    "standings_percmidrange_df.rename(columns={\"ID_ACTION\": \"midRangePercentage\"}, inplace=True)\n",
    "standings_percmidrange_df[\"midRangePercentage\"] = 100 * standings_percmidrange_df[\"midRangePercentage\"]"
   ]
  },
  {
   "cell_type": "code",
   "execution_count": null,
   "metadata": {},
   "outputs": [],
   "source": [
    "standings_percmidrange_df[[\"winPercentage\", \"midRangePercentage\"]].corr()"
   ]
  },
  {
   "cell_type": "code",
   "execution_count": null,
   "metadata": {},
   "outputs": [],
   "source": [
    "x_const = sm.add_constant(standings_percmidrange_df[[\"winPercentage\"]], prepend=False)\n",
    "# Fit and summarize OLS model\n",
    "mod = sm.OLS(standings_percmidrange_df[\"midRangePercentage\"], x_const)\n",
    "res = mod.fit()"
   ]
  },
  {
   "cell_type": "code",
   "execution_count": null,
   "metadata": {},
   "outputs": [],
   "source": [
    "# m, b = np.polyfit(x=standings_percmidrange_df[\"winPercentage\"], y=standings_percmidrange_df[\"midRangePercentage\"], deg=1)\n",
    "m = res.params.winPercentage\n",
    "b = res.params.const\n",
    "x = np.arange(10, 100)\n",
    "yfit = m * x + b"
   ]
  },
  {
   "cell_type": "code",
   "execution_count": null,
   "metadata": {},
   "outputs": [],
   "source": [
    "res.summary()"
   ]
  },
  {
   "cell_type": "code",
   "execution_count": null,
   "metadata": {},
   "outputs": [],
   "source": [
    "fig = px.scatter(standings_percmidrange_df, x=\"winPercentage\", y=\"midRangePercentage\", text=\"club.name\")\n",
    "fig.update_traces(textposition=\"bottom right\")\n",
    "fig.add_trace(go.Scatter(x=x, y=yfit, name=\"trend\"))\n",
    "fig.show()"
   ]
  },
  {
   "cell_type": "markdown",
   "metadata": {},
   "source": [
    "# Game Report"
   ]
  },
  {
   "cell_type": "code",
   "execution_count": null,
   "metadata": {},
   "outputs": [],
   "source": [
    "# Same as above, some teams shot no midrange, count the total 2PTs (i.e. layups too) and merge so that there no missing teams after the groupby\n",
    "n_made_missed_midrange_df = midrange_df.groupby([\"Gamecode\", \"TEAM\", \"ID_ACTION\"])[[\"Season\"]].count()\n",
    "n_made_missed_2ps_df = shot_df[shot_df[\"ID_ACTION\"].isin(['2FGM', '2FGA'])].groupby([\"Gamecode\", \"TEAM\", \"ID_ACTION\"])[[\"Season\"]].count()"
   ]
  },
  {
   "cell_type": "code",
   "execution_count": null,
   "metadata": {},
   "outputs": [],
   "source": [
    "n_made_missed_midrange_total2pt_df = n_made_missed_midrange_df.merge(n_made_missed_2ps_df, left_index=True, right_index=True, how=\"outer\")\n",
    "n_made_missed_midrange_total2pt_df.columns = [\"midrage\", \"total\"]\n",
    "n_made_missed_midrange_total2pt_df.fillna(0, inplace=True)\n",
    "n_made_missed_midrange_total2pt_df.head()"
   ]
  },
  {
   "cell_type": "code",
   "execution_count": null,
   "metadata": {},
   "outputs": [],
   "source": [
    "game_report_df = pd.read_csv(os.path.join(data_dir, \"game_report_2023.csv\"))"
   ]
  },
  {
   "cell_type": "code",
   "execution_count": null,
   "metadata": {},
   "outputs": [],
   "source": [
    "game_report_df.head()"
   ]
  },
  {
   "cell_type": "code",
   "execution_count": null,
   "metadata": {},
   "outputs": [],
   "source": [
    "abbr_to_name_dict = game_report_df[[\"road.club.code\", \"road.club.name\"]].drop_duplicates().set_index(\"road.club.code\").to_dict()[\"road.club.name\"]"
   ]
  },
  {
   "cell_type": "code",
   "execution_count": null,
   "metadata": {},
   "outputs": [],
   "source": [
    "game_report_trunc_df = game_report_df[[\"Gamecode\", \"Round\", \"local.club.code\", \"road.club.code\", \"local.score\", \"road.score\"]]"
   ]
  },
  {
   "cell_type": "code",
   "execution_count": null,
   "metadata": {},
   "outputs": [],
   "source": [
    "fig = px.bar(100* team_perc_midrange_df.rename(index=abbr_to_name_dict))\n",
    "fig.update_layout(\n",
    "    yaxis={\"title\": \"% Mid-range FGs\"},\n",
    "    showlegend=False\n",
    ")"
   ]
  },
  {
   "cell_type": "markdown",
   "metadata": {},
   "source": [
    "# Merge Game Report with Shot data analysis"
   ]
  },
  {
   "cell_type": "code",
   "execution_count": null,
   "metadata": {},
   "outputs": [],
   "source": [
    "master_table = merged_reshaped_df.reset_index().merge(game_report_df, on=\"Gamecode\")"
   ]
  },
  {
   "cell_type": "code",
   "execution_count": null,
   "metadata": {},
   "outputs": [],
   "source": [
    "master_table[\"home_win\"] = master_table[\"local.score\"] > master_table[\"road.score\"]"
   ]
  },
  {
   "cell_type": "code",
   "execution_count": null,
   "metadata": {},
   "outputs": [],
   "source": [
    "master_table.head()"
   ]
  },
  {
   "cell_type": "code",
   "execution_count": null,
   "metadata": {},
   "outputs": [],
   "source": [
    "# fix the order of team A and team B to match the order of local and road teams.\n",
    "for i, row in master_table.iterrows():\n",
    "    # break\n",
    "    if (row[[\"Team_A\", \"Team_B\"]].values == row[[\"local.club.code\", \"road.club.code\"]].values).all():\n",
    "        continue\n",
    "    else:\n",
    "        master_table.loc[i, [\"Team_A\", \"Team_B\"]] = row[[\"Team_B\", \"Team_A\"]].values\n",
    "        master_table.loc[i, [\"Midrange_perc_A\", \"Midrange_perc_B\"]] = row[[\"Midrange_perc_B\", \"Midrange_perc_A\"]].values"
   ]
  },
  {
   "cell_type": "code",
   "execution_count": null,
   "metadata": {},
   "outputs": [],
   "source": [
    "master_table[\"home_fewer_midrange_volume\"] = master_table[\"Midrange_perc_A\"] < master_table[\"Midrange_perc_B\"]\n",
    "master_table.head()"
   ]
  },
  {
   "cell_type": "code",
   "execution_count": null,
   "metadata": {},
   "outputs": [],
   "source": [
    "n_wins_with_fewer_mid_range = (master_table[\"home_win\"] & (master_table[\"home_fewer_midrange_volume\"])).sum() + (~master_table[\"home_win\"] & (~master_table[\"home_fewer_midrange_volume\"])).sum()\n",
    "n_games = master_table.shape[0]\n",
    "ratio = n_wins_with_fewer_mid_range / n_games\n",
    "print(ratio)"
   ]
  },
  {
   "cell_type": "markdown",
   "metadata": {},
   "source": [
    "## Mid-range players"
   ]
  },
  {
   "cell_type": "code",
   "execution_count": null,
   "metadata": {},
   "outputs": [],
   "source": [
    "mid_range_shots_by_player_df = midrange_df.groupby([\"PLAYER\", \"ID_PLAYER\", \"TEAM\"]).count()[\"ID_ACTION\"]\n",
    "fg_by_player_df = fg_df.groupby([\"PLAYER\", \"ID_PLAYER\", \"TEAM\"]).count()[\"ID_ACTION\"]\n",
    "player_perc_midrange_df = mid_range_shots_by_player_df.reset_index().merge(fg_by_player_df.reset_index(), on=[\"PLAYER\", \"ID_PLAYER\", \"TEAM\"])\n",
    "player_perc_midrange_df.columns = [\"PLAYER\", \"ID_PLAYER\", \"TEAM\", \"mid-range\", \"fg\"]\n",
    "player_perc_midrange_df[\"midrange-perc\"] = player_perc_midrange_df[\"mid-range\"] / player_perc_midrange_df[\"fg\"]\n",
    "player_perc_midrange_df[\"TEAM\"] = player_perc_midrange_df[\"TEAM\"].replace(abbr_to_name_dict)\n",
    "player_perc_midrange_df[player_perc_midrange_df[\"fg\"] > 80].sort_values(\"midrange-perc\", ascending=False).head(10)\n",
    "# player_perc_midrange_df[player_perc_midrange_df[\"fg\"] > 80].sort_values(\"midrange-perc\", ascending=False).head(10)[[\"PLAYER\", \"TEAM\", \"midrange-perc\"]]#.reset_index().to_markdown()"
   ]
  },
  {
   "cell_type": "code",
   "execution_count": null,
   "metadata": {},
   "outputs": [],
   "source": []
  }
 ],
 "metadata": {
  "kernelspec": {
   "display_name": "euroleague_analysis",
   "language": "python",
   "name": "python3"
  },
  "language_info": {
   "codemirror_mode": {
    "name": "ipython",
    "version": 3
   },
   "file_extension": ".py",
   "mimetype": "text/x-python",
   "name": "python",
   "nbconvert_exporter": "python",
   "pygments_lexer": "ipython3",
   "version": "3.11.7"
  }
 },
 "nbformat": 4,
 "nbformat_minor": 2
}
