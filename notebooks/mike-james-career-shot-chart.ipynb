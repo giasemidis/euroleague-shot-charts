{
 "cells": [
  {
   "cell_type": "markdown",
   "id": "e4eac932-715c-4c33-adac-dc741cdc8b60",
   "metadata": {},
   "source": [
    "Mike James career shot chart"
   ]
  },
  {
   "cell_type": "code",
   "execution_count": null,
   "id": "fc2691ba-9b7d-4da3-91d7-eeb4ea154833",
   "metadata": {},
   "outputs": [],
   "source": [
    "import sys\n",
    "import pandas as pd\n",
    "\n",
    "sys.path.append(\"../utils/\")\n",
    "from matplotlib import pyplot as plt\n",
    "%matplotlib ipympl\n",
    "from shot_chart_plots import plot_scatter, plot_scatter_single_df"
   ]
  },
  {
   "cell_type": "code",
   "execution_count": null,
   "id": "5a72aa7e-ac8a-454c-a367-bcbfe71f72c6",
   "metadata": {},
   "outputs": [],
   "source": [
    "df = pd.read_csv(\"c:/Users/giase/Documents/euroleague_api/notebooks/data/shot_data_2007_2023.csv\")"
   ]
  },
  {
   "cell_type": "code",
   "execution_count": null,
   "id": "cb48685d",
   "metadata": {},
   "outputs": [],
   "source": [
    "mj_df = df[df[\"PLAYER\"] == 'JAMES, MIKE']"
   ]
  },
  {
   "cell_type": "code",
   "execution_count": null,
   "id": "39bae2aa-bfa8-4ed7-8d76-938659ce266f",
   "metadata": {},
   "outputs": [],
   "source": [
    "seasons = mj_df[\"Season\"].unique()"
   ]
  },
  {
   "cell_type": "code",
   "execution_count": null,
   "id": "0fa4428b-5a05-42ba-80d3-96ab3c5ba95a",
   "metadata": {},
   "outputs": [],
   "source": [
    "for season in seasons:\n",
    "    sdf = mj_df[mj_df[\"Season\"] <= season]\n",
    "    plot_scatter_single_df(sdf, title=season, filename=f\"../generated-plots/mike_james_shot_chart_cum_{season}.png\")"
   ]
  },
  {
   "cell_type": "markdown",
   "id": "503f3023-56e1-4bf7-9715-1d7482cb5f4f",
   "metadata": {},
   "source": [
    "# Mike James career shot chart"
   ]
  },
  {
   "cell_type": "code",
   "execution_count": null,
   "id": "bcf5c91f-5888-4a7b-87a8-153469faa05f",
   "metadata": {},
   "outputs": [],
   "source": [
    "mj_missed_mask = mj_df[\"ID_ACTION\"].str.contains(\"FGA\")\n",
    "mj_made_mask = mj_df[\"ID_ACTION\"].str.contains(\"FGM\")"
   ]
  },
  {
   "cell_type": "code",
   "execution_count": null,
   "id": "fb5b65ea-d90f-4edc-954c-ed00e7aa83cd",
   "metadata": {},
   "outputs": [],
   "source": [
    "plot_scatter(mj_df[mj_made_mask], mj_df[mj_missed_mask], title='Mike James - Career Shot Chart')"
   ]
  }
 ],
 "metadata": {
  "kernelspec": {
   "display_name": "Python 3 (ipykernel)",
   "language": "python",
   "name": "python3"
  },
  "language_info": {
   "codemirror_mode": {
    "name": "ipython",
    "version": 3
   },
   "file_extension": ".py",
   "mimetype": "text/x-python",
   "name": "python",
   "nbconvert_exporter": "python",
   "pygments_lexer": "ipython3",
   "version": "3.11.7"
  }
 },
 "nbformat": 4,
 "nbformat_minor": 5
}
