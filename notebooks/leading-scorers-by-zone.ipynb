{
 "cells": [
  {
   "cell_type": "markdown",
   "metadata": {},
   "source": [
    "Find the leading scorer by zone on the court. Plot the zones and players' names.\n",
    "\n",
    "Plot the shooting charts of teams and/or players"
   ]
  },
  {
   "cell_type": "code",
   "execution_count": null,
   "metadata": {},
   "outputs": [],
   "source": [
    "import sys\n",
    "from matplotlib import pyplot as plt\n",
    "from euroleague_api.shot_data import ShotData\n",
    "\n",
    "sys.path.append(\"../utils/\")\n",
    "from shot_chart_plots import plot_scatter, plot_leading_scorers_by_zone, fg_perc_hex_heatmap\n",
    "from get_new_zones import hexagon_zones, corner_three_zones\n",
    "# %matplotlib\n",
    "\n",
    "plt.close(\"all\")"
   ]
  },
  {
   "cell_type": "code",
   "execution_count": null,
   "metadata": {},
   "outputs": [],
   "source": [
    "def get_leading_scorer_by_zone(df, zone_col=\"ZONE\"):\n",
    "    \"\"\"Calculate the leading scorers by zone\n",
    "\n",
    "    Args:\n",
    "        df (pd.DataFrame): The dataframe of the shooting data\n",
    "        zone_col (str): The column name of the zone data.\n",
    "\n",
    "    Returns:\n",
    "        pd.DataFrame: A dataframe with the leading scorers by zone and their points\n",
    "            scored in that zone\n",
    "    \"\"\"\n",
    "    top_players_by_zone_df = df.groupby([zone_col, \"PLAYER\"])[\"POINTS\"].sum().reset_index()\n",
    "    pidx = top_players_by_zone_df.groupby(zone_col)['POINTS'].idxmax()\n",
    "    top_players = top_players_by_zone_df.loc[pidx]\n",
    "    # top_players.rename(columns={zone_col: \"ZONE\"}, inplace=True)\n",
    "    return top_players\n",
    "\n",
    "\n",
    "def reshape_actions_player_by_zone(df, zone_col):\n",
    "    \"\"\"Reshape the shooting dataframe and actions into a single FG statistic.\n",
    "\n",
    "    Args:\n",
    "        df (pd.DataFrame): The dataframe of the shooting data\n",
    "        zone_col (str): The column name of the zone data.\n",
    "\n",
    "    Returns:\n",
    "        pd.DataFrame: A dataframe with zone, player name and their FGT and FG%\n",
    "            statistics.\n",
    "    \"\"\"\n",
    "    df[\"ID_ACTION_FG\"] = df[\"ID_ACTION\"].str.strip(\"2\").str.strip(\"3\")\n",
    "    pvt_df = df.pivot_table(\n",
    "        index=[zone_col, \"PLAYER\"],\n",
    "        columns=\"ID_ACTION_FG\",\n",
    "        values=\"Season\",\n",
    "        aggfunc=\"count\"\n",
    "    ).fillna(0)\n",
    "    pvt_df[\"FGT\"] = pvt_df[\"FGA\"] + pvt_df[\"FGM\"]\n",
    "    pvt_df[\"FG%\"] = pvt_df[\"FGM\"] / pvt_df[\"FGT\"]\n",
    "    pvt_df.reset_index(inplace=True)\n",
    "    return pvt_df\n",
    "\n",
    "\n",
    "def get_leading_attempts_by_zone(df, zone_col=\"ZONE\"):\n",
    "    \"\"\"Calculate the leading volume shooters (total FGs) by zone\n",
    "\n",
    "    Args:\n",
    "        df (pd.DataFrame): The dataframe of the shooting data\n",
    "        zone_col (str): The column name of the zone data.\n",
    "\n",
    "    Returns:\n",
    "        pd.DataFrame: A dataframe with the leading player of total attempted FG\n",
    "            by zone\n",
    "    \"\"\"\n",
    "    pvt_df = reshape_actions_player_by_zone(df, zone_col)\n",
    "\n",
    "    pidx = pvt_df.groupby(zone_col)[\"FGT\"].idxmax()\n",
    "    top_players = pvt_df.loc[pidx]\n",
    "    return top_players[[zone_col, \"PLAYER\", \"FGT\", \"FG%\"]]\n",
    "\n",
    "\n",
    "def get_leading_perc_by_zone(df, zone_col=\"ZONE\", threshold=0.75):\n",
    "    \"\"\"Calculate the leading FG% shooter by zone among the top volume shooters\n",
    "    in the corresponing zone, determined by the `threshold` variable\n",
    "\n",
    "    Args:\n",
    "        df (pd.DataFrame): The dataframe of the shooting data\n",
    "        zone_col (str): The column name of the zone data.\n",
    "        threshold (float): A float between 0 and 1, representing the quantile of the\n",
    "            top volume shooters\n",
    "\n",
    "    Returns:\n",
    "        pd.DataFrame: A dataframe with the leading player of FG%\n",
    "            by zone\n",
    "    \"\"\"\n",
    "\n",
    "    pvt_df = reshape_actions_player_by_zone(df, zone_col)\n",
    "\n",
    "    thrslds_by_zone = pvt_df.groupby([zone_col])[\"FGT\"].quantile(threshold)\n",
    "    merged_df = pvt_df.merge(thrslds_by_zone.to_frame(\"threshold\").reset_index())\n",
    "    filtered_df = merged_df[merged_df[\"FGT\"] >= merged_df[\"threshold\"]]\n",
    "    ordered_df = filtered_df.sort_values([zone_col, \"FG%\", \"FGT\"], ascending=[True, False, False])\n",
    "    top_players = ordered_df.drop_duplicates(zone_col, keep=\"first\")\n",
    "    return top_players\n"
   ]
  },
  {
   "cell_type": "code",
   "execution_count": null,
   "metadata": {},
   "outputs": [],
   "source": [
    "season = 2024\n",
    "competition = \"E\""
   ]
  },
  {
   "cell_type": "code",
   "execution_count": null,
   "metadata": {},
   "outputs": [],
   "source": [
    "shotdata = ShotData(competition)\n",
    "shot_df = shotdata.get_game_shot_data_single_season(season)"
   ]
  },
  {
   "cell_type": "markdown",
   "metadata": {},
   "source": [
    "# Find leading scorers by zone"
   ]
  },
  {
   "cell_type": "code",
   "execution_count": null,
   "metadata": {},
   "outputs": [],
   "source": [
    "round_ = None  # Set to None if you want all rounds of the season"
   ]
  },
  {
   "cell_type": "code",
   "execution_count": null,
   "metadata": {},
   "outputs": [],
   "source": [
    "shot_df = corner_three_zones(shot_df)\n",
    "# shot_df = hexagon_zones(shot_df, gridsize=3)\n",
    "# fg_perc_hex_heatmap(shot_df, gridsize=4)"
   ]
  },
  {
   "cell_type": "code",
   "execution_count": null,
   "metadata": {},
   "outputs": [],
   "source": [
    "if round_ is not None:\n",
    "   mask = (shot_df[\"Round\"] == round_)\n",
    "   round_df =  shot_df[mask].reset_index(drop=True)\n",
    "   top_players = get_leading_scorer_by_zone(round_df, zone_col=\"ZONE_C\")\n",
    "   top_attempts = get_leading_attempts_by_zone(round_df, zone_col=\"ZONE_C\")\n",
    "   top_percs = get_leading_perc_by_zone(round_df, zone_col=\"ZONE_C\", threshold=0.8)\n",
    "else:\n",
    "    top_players = get_leading_scorer_by_zone(shot_df, zone_col=\"ZONE_C\")\n",
    "    top_attempts = get_leading_attempts_by_zone(shot_df, zone_col=\"ZONE_C\")\n",
    "    top_percs = get_leading_perc_by_zone(shot_df, zone_col=\"ZONE_C\", threshold=0.8)"
   ]
  },
  {
   "cell_type": "code",
   "execution_count": null,
   "metadata": {},
   "outputs": [],
   "source": [
    "top_percs"
   ]
  },
  {
   "cell_type": "code",
   "execution_count": null,
   "metadata": {},
   "outputs": [],
   "source": [
    "plot_leading_scorers_by_zone(shot_df, top_percs, zone_col=\"ZONE_C\", title=\"Top FG% shooters by zone\")"
   ]
  },
  {
   "cell_type": "code",
   "execution_count": null,
   "metadata": {},
   "outputs": [],
   "source": [
    "plot_leading_scorers_by_zone(shot_df, top_attempts, zone_col=\"ZONE_C\", title=\"Top shooters by volume of FGs by zone\")"
   ]
  },
  {
   "cell_type": "code",
   "execution_count": null,
   "metadata": {},
   "outputs": [],
   "source": [
    "plot_leading_scorers_by_zone(shot_df, top_players, zone_col=\"ZONE_C\", title=\"Leading scorers by zone\")"
   ]
  },
  {
   "cell_type": "markdown",
   "metadata": {},
   "source": [
    "# Player Shooting Chart"
   ]
  },
  {
   "cell_type": "code",
   "execution_count": null,
   "metadata": {},
   "outputs": [],
   "source": [
    "# player_name = 'NEDOVIC, NEMANJA'\n",
    "# player_name = \"LESSORT, MATHIAS\"\n",
    "# player_name = \"SHORTS, TJ\"\n",
    "player_name = \"OBST, ANDREAS\"\n",
    "round_ = 11  # Set to None if you want all rounds of the season"
   ]
  },
  {
   "cell_type": "code",
   "execution_count": null,
   "metadata": {},
   "outputs": [],
   "source": [
    "player_mask = (shot_df[\"PLAYER\"] == player_name)\n",
    "if round_ is not None:\n",
    "     player_mask &= (shot_df[\"Round\"] == round_)\n",
    "\n",
    "player_shot_df = shot_df[player_mask]\n",
    "palyer_missed_mask = player_shot_df[\"ID_ACTION\"].str.contains(\"FGA\")\n",
    "player_made_mask = player_shot_df[\"ID_ACTION\"].str.contains(\"FGM\")\n",
    "\n",
    "plot_scatter(player_shot_df[player_made_mask], player_shot_df[palyer_missed_mask], title=f'{player_name} - Shot Chart', color=\"red\")"
   ]
  },
  {
   "cell_type": "markdown",
   "metadata": {},
   "source": [
    "# Teams' shooting chart"
   ]
  },
  {
   "cell_type": "code",
   "execution_count": null,
   "metadata": {},
   "outputs": [],
   "source": [
    "from euroleague_api.team_stats import TeamStats\n",
    "\n",
    "teamstats = TeamStats(\"E\")\n",
    "team_info = teamstats.get_team_stats_single_season(endpoint=\"traditional\", season=2024, phase_type_code=None, statistic_mode=\"PerGame\")\n",
    "code_to_name = team_info[[\"team.code\", \"team.name\"]].set_index(\"team.code\").to_dict()[\"team.name\"]"
   ]
  },
  {
   "cell_type": "code",
   "execution_count": null,
   "metadata": {},
   "outputs": [],
   "source": [
    "team_abbr = \"BAR\"\n",
    "round_ = 11  # Set to None if you want all rounds of the season"
   ]
  },
  {
   "cell_type": "code",
   "execution_count": null,
   "metadata": {},
   "outputs": [],
   "source": [
    "team_mask = (shot_df[\"TEAM\"] == team_abbr)\n",
    "if round_ is not None:\n",
    "     team_mask &= (shot_df[\"Round\"] == round_)\n",
    "\n",
    "team_shot_df = shot_df[team_mask]\n",
    "team_missed_mask = team_shot_df[\"ID_ACTION\"].str.contains(\"FGA\")\n",
    "team_made_mask = team_shot_df[\"ID_ACTION\"].str.contains(\"FGM\")\n",
    "\n",
    "plot_scatter(team_shot_df[team_made_mask], team_shot_df[team_missed_mask], title=f'{code_to_name[team_abbr]} - Shot Chart', color=\"red\")"
   ]
  },
  {
   "cell_type": "markdown",
   "metadata": {},
   "source": [
    "## Plot shooting charts of all teams"
   ]
  },
  {
   "cell_type": "code",
   "execution_count": null,
   "metadata": {},
   "outputs": [],
   "source": [
    "round_ = 11  # Set to None if you want all rounds of the season"
   ]
  },
  {
   "cell_type": "code",
   "execution_count": null,
   "metadata": {},
   "outputs": [],
   "source": [
    "for team_abbr in shot_df[\"TEAM\"].unique():\n",
    "    team_mask = (shot_df[\"TEAM\"] == team_abbr)\n",
    "    if round_ is not None:\n",
    "        team_mask &= (shot_df[\"Round\"] == round_)\n",
    "    team_shot_df = shot_df[team_mask]\n",
    "    team_missed_mask = team_shot_df[\"ID_ACTION\"].str.contains(\"FGA\")\n",
    "    team_made_mask = team_shot_df[\"ID_ACTION\"].str.contains(\"FGM\")\n",
    "    plot_scatter(team_shot_df[team_made_mask], team_shot_df[team_missed_mask], title=f'{code_to_name[team_abbr]} - Shot Chart', color=\"red\")"
   ]
  }
 ],
 "metadata": {
  "kernelspec": {
   "display_name": "euroleague-analysis",
   "language": "python",
   "name": "python3"
  },
  "language_info": {
   "codemirror_mode": {
    "name": "ipython",
    "version": 3
   },
   "file_extension": ".py",
   "mimetype": "text/x-python",
   "name": "python",
   "nbconvert_exporter": "python",
   "pygments_lexer": "ipython3",
   "version": "3.11.7"
  }
 },
 "nbformat": 4,
 "nbformat_minor": 2
}
