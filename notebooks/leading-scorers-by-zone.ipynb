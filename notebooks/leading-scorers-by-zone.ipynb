{
 "cells": [
  {
   "cell_type": "markdown",
   "metadata": {},
   "source": [
    "Find the leading scorer by zone on the court. Plot the zones and players' names.\n",
    "\n",
    "Plot the shooting charts of teams and/or players"
   ]
  },
  {
   "cell_type": "code",
   "execution_count": 1,
   "metadata": {},
   "outputs": [],
   "source": [
    "import sys\n",
    "from matplotlib import pyplot as plt\n",
    "from euroleague_api.shot_data import ShotData\n",
    "\n",
    "sys.path.append(\"../utils/\")\n",
    "from shot_chart_plots import plot_scatter, plot_leading_scorers_by_zone, fg_perc_hex_heatmap\n",
    "from get_new_zones import hexagon_zones, corner_three_zones\n",
    "# %matplotlib\n",
    "\n",
    "plt.close(\"all\")"
   ]
  },
  {
   "cell_type": "code",
   "execution_count": 2,
   "metadata": {},
   "outputs": [],
   "source": [
    "def get_leading_scorer_by_zone(df, zone_col=\"ZONE\"):\n",
    "    \"\"\"Calculate the leading scorers by zone\n",
    "\n",
    "    Args:\n",
    "        df (pd.DataFrame): The dataframe of the shooting data\n",
    "        zone_col (str): The column name of the zone data.\n",
    "\n",
    "    Returns:\n",
    "        pd.DataFrame: A dataframe with the leading scorers by zone and their points\n",
    "            scored in that zone\n",
    "    \"\"\"\n",
    "    top_players_by_zone_df = df.groupby([zone_col, \"PLAYER\"])[\"POINTS\"].sum().reset_index()\n",
    "    pidx = top_players_by_zone_df.groupby(zone_col)['POINTS'].idxmax()\n",
    "    top_players = top_players_by_zone_df.loc[pidx]\n",
    "    # top_players.rename(columns={zone_col: \"ZONE\"}, inplace=True)\n",
    "    return top_players"
   ]
  },
  {
   "cell_type": "code",
   "execution_count": 3,
   "metadata": {},
   "outputs": [],
   "source": [
    "season = 2024\n",
    "competition = \"E\""
   ]
  },
  {
   "cell_type": "code",
   "execution_count": null,
   "metadata": {},
   "outputs": [],
   "source": [
    "shotdata = ShotData(competition)\n",
    "shot_df = shotdata.get_game_shot_data_single_season(season)"
   ]
  },
  {
   "cell_type": "markdown",
   "metadata": {},
   "source": [
    "# Find leading scorers by zone"
   ]
  },
  {
   "cell_type": "code",
   "execution_count": 5,
   "metadata": {},
   "outputs": [],
   "source": [
    "round_ = None  # Set to None if you want all rounds of the season"
   ]
  },
  {
   "cell_type": "code",
   "execution_count": 6,
   "metadata": {},
   "outputs": [],
   "source": [
    "shot_df = corner_three_zones(shot_df)\n",
    "# shot_df = hexagon_zones(shot_df, gridsize=3)\n",
    "# fg_perc_hex_heatmap(shot_df, gridsize=4)"
   ]
  },
  {
   "cell_type": "code",
   "execution_count": null,
   "metadata": {},
   "outputs": [],
   "source": [
    "if round_ is not None:\n",
    "   top_players = get_leading_scorer_by_zone(shot_df[(shot_df[\"Round\"] == round_)], zone_col=\"ZONE_C\")\n",
    "else:\n",
    "    top_players = get_leading_scorer_by_zone(shot_df, zone_col=\"ZONE_C\")\n",
    "top_players"
   ]
  },
  {
   "cell_type": "code",
   "execution_count": null,
   "metadata": {},
   "outputs": [],
   "source": [
    "plot_leading_scorers_by_zone(shot_df, top_players, zone_col=\"ZONE_C\")"
   ]
  },
  {
   "cell_type": "markdown",
   "metadata": {},
   "source": [
    "# Player Shooting Chart"
   ]
  },
  {
   "cell_type": "code",
   "execution_count": 11,
   "metadata": {},
   "outputs": [],
   "source": [
    "player_name = 'NEDOVIC, NEMANJA'\n",
    "round_ = 1  # Set to None if you want all rounds of the season"
   ]
  },
  {
   "cell_type": "code",
   "execution_count": null,
   "metadata": {},
   "outputs": [],
   "source": [
    "player_mask = (shot_df[\"PLAYER\"] == player_name)\n",
    "if round_ is not None:\n",
    "     player_mask &= (shot_df[\"Round\"] == round_)\n",
    "\n",
    "player_shot_df = shot_df[shot_df[\"PLAYER\"] == player_name]\n",
    "palyer_missed_mask = player_shot_df[\"ID_ACTION\"].str.contains(\"FGA\")\n",
    "player_made_mask = player_shot_df[\"ID_ACTION\"].str.contains(\"FGM\")\n",
    "\n",
    "plot_scatter(player_shot_df[player_made_mask], player_shot_df[palyer_missed_mask], title=f'{player_name} - Shot Chart', color=\"red\")"
   ]
  },
  {
   "cell_type": "markdown",
   "metadata": {},
   "source": [
    "# Teams' shooting chart"
   ]
  },
  {
   "cell_type": "code",
   "execution_count": 5,
   "metadata": {},
   "outputs": [],
   "source": [
    "from euroleague_api.team_stats import TeamStats\n",
    "\n",
    "teamstats = TeamStats(\"E\")\n",
    "team_info = teamstats.get_team_stats_single_season(endpoint=\"traditional\", season=2024, phase_type_code=None, statistic_mode=\"PerGame\")\n",
    "code_to_name = team_info[[\"team.code\", \"team.name\"]].set_index(\"team.code\").to_dict()[\"team.name\"]"
   ]
  },
  {
   "cell_type": "code",
   "execution_count": 6,
   "metadata": {},
   "outputs": [],
   "source": [
    "team_abbr = \"MCO\"\n",
    "round_ = None  # Set to None if you want all rounds of the season"
   ]
  },
  {
   "cell_type": "code",
   "execution_count": null,
   "metadata": {},
   "outputs": [],
   "source": [
    "team_mask = (shot_df[\"TEAM\"] == team_abbr)\n",
    "if round_ is not None:\n",
    "     team_mask &= (shot_df[\"Round\"] == round_)\n",
    "\n",
    "team_shot_df = shot_df[team_mask]\n",
    "team_missed_mask = team_shot_df[\"ID_ACTION\"].str.contains(\"FGA\")\n",
    "team_made_mask = team_shot_df[\"ID_ACTION\"].str.contains(\"FGM\")\n",
    "\n",
    "plot_scatter(team_shot_df[team_made_mask], team_shot_df[team_missed_mask], title=f'{code_to_name[team_abbr]} - Shot Chart', color=\"red\")"
   ]
  },
  {
   "cell_type": "markdown",
   "metadata": {},
   "source": [
    "## Plot shooting charts of all teams"
   ]
  },
  {
   "cell_type": "code",
   "execution_count": 18,
   "metadata": {},
   "outputs": [],
   "source": [
    "round_ = 2  # Set to None if you want all rounds of the season"
   ]
  },
  {
   "cell_type": "code",
   "execution_count": null,
   "metadata": {},
   "outputs": [],
   "source": [
    "for team_abbr in shot_df[\"TEAM\"].unique():\n",
    "    team_mask = (shot_df[\"TEAM\"] == team_abbr)\n",
    "    if round_ is not None:\n",
    "        team_mask &= (shot_df[\"Round\"] == round_)\n",
    "    team_shot_df = shot_df[team_mask]\n",
    "    team_missed_mask = team_shot_df[\"ID_ACTION\"].str.contains(\"FGA\")\n",
    "    team_made_mask = team_shot_df[\"ID_ACTION\"].str.contains(\"FGM\")\n",
    "    plot_scatter(team_shot_df[team_made_mask], team_shot_df[team_missed_mask], title=f'{code_to_name[team_abbr]} - Shot Chart', color=\"red\")"
   ]
  }
 ],
 "metadata": {
  "kernelspec": {
   "display_name": "euroleague-analysis",
   "language": "python",
   "name": "python3"
  },
  "language_info": {
   "codemirror_mode": {
    "name": "ipython",
    "version": 3
   },
   "file_extension": ".py",
   "mimetype": "text/x-python",
   "name": "python",
   "nbconvert_exporter": "python",
   "pygments_lexer": "ipython3",
   "version": "3.11.7"
  }
 },
 "nbformat": 4,
 "nbformat_minor": 2
}
