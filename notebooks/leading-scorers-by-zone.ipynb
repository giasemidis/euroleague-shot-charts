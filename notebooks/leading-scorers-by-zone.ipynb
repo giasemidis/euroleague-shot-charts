{
 "cells": [
  {
   "cell_type": "markdown",
   "metadata": {},
   "source": [
    "Find the leading scorer by zone on the court. Plot the zones and players' names."
   ]
  },
  {
   "cell_type": "code",
   "execution_count": null,
   "metadata": {},
   "outputs": [],
   "source": [
    "import os\n",
    "import sys\n",
    "import pandas as pd\n",
    "from matplotlib import pyplot as plt\n",
    "\n",
    "sys.path.append(\"../utils/\")\n",
    "from draw_court import draw_court\n",
    "\n",
    "# %matplotlib\n",
    "\n",
    "plt.close(\"all\")"
   ]
  },
  {
   "cell_type": "code",
   "execution_count": null,
   "metadata": {},
   "outputs": [],
   "source": [
    "data_dir = \"~/Documents/euroleague_api/notebooks/data\""
   ]
  },
  {
   "cell_type": "code",
   "execution_count": null,
   "metadata": {},
   "outputs": [],
   "source": [
    "shot_df = pd.read_csv(os.path.join(data_dir, \"shot_data_E2023.csv\"))"
   ]
  },
  {
   "cell_type": "code",
   "execution_count": null,
   "metadata": {},
   "outputs": [],
   "source": [
    "def get_leading_scorer_by_zone(df):\n",
    "    top_players_by_zone_df = df.groupby([\"ZONE\", \"PLAYER\"])[\"POINTS\"].sum().reset_index()\n",
    "    pidx = top_players_by_zone_df.groupby('ZONE')['POINTS'].idxmax()\n",
    "    top_players = top_players_by_zone_df.loc[pidx]\n",
    "    return top_players"
   ]
  },
  {
   "cell_type": "code",
   "execution_count": null,
   "metadata": {},
   "outputs": [],
   "source": [
    "def plot_leading_scorers_by_zone(shot_df, lead_scorers_df):\n",
    "    plt.figure()\n",
    "    draw_court()\n",
    "    plt.xlim([-800, 800])\n",
    "    plt.ylim([-200, 1300])\n",
    "    for zone in lead_scorers_df.ZONE.unique():\n",
    "        if zone not in [\" \", \"J\"]:\n",
    "            zone_df = shot_df[shot_df[\"ZONE\"] == zone]\n",
    "            y_annot = zone_df['COORD_Y'].median()\n",
    "            if zone in [\"B\", \"D\", \"F\", \"H\"]:\n",
    "                x_annot = zone_df['COORD_X'].median() - 150\n",
    "            elif zone == \"A\":\n",
    "                x_annot = -70\n",
    "                y_annot = -70\n",
    "            else:\n",
    "                x_annot = zone_df['COORD_X'].median()\n",
    "            player = lead_scorers_df.loc[lead_scorers_df[\"ZONE\"] == zone, \"PLAYER\"].iloc[0]\n",
    "            last, first = player.split(\", \")\n",
    "            player = f\"{last} {first[:1]}.\"\n",
    "            plt.annotate(player, (x_annot, y_annot), fontsize=8)\n",
    "            plt.plot(zone_df['COORD_X'], zone_df['COORD_Y'], 'o', mfc='none', zorder=0)\n",
    "    plt.show()\n",
    "    return"
   ]
  },
  {
   "cell_type": "code",
   "execution_count": null,
   "metadata": {},
   "outputs": [],
   "source": [
    "top_players = get_leading_scorer_by_zone(shot_df)\n",
    "top_players"
   ]
  },
  {
   "cell_type": "code",
   "execution_count": null,
   "metadata": {},
   "outputs": [],
   "source": [
    "plot_leading_scorers_by_zone(shot_df, top_players)"
   ]
  },
  {
   "cell_type": "markdown",
   "metadata": {},
   "source": [
    "## PAO's Leading scorers by zone"
   ]
  },
  {
   "cell_type": "code",
   "execution_count": null,
   "metadata": {},
   "outputs": [],
   "source": [
    "pao_df = shot_df[shot_df[\"TEAM\"] == \"PAN\"]"
   ]
  },
  {
   "cell_type": "code",
   "execution_count": null,
   "metadata": {},
   "outputs": [],
   "source": [
    "top_players_pao_df = get_leading_scorer_by_zone(pao_df)\n",
    "top_players_pao_df"
   ]
  },
  {
   "cell_type": "code",
   "execution_count": null,
   "metadata": {},
   "outputs": [],
   "source": [
    "plot_leading_scorers_by_zone(pao_df, top_players_pao_df)"
   ]
  }
 ],
 "metadata": {
  "kernelspec": {
   "display_name": "euroleague-analysis",
   "language": "python",
   "name": "python3"
  },
  "language_info": {
   "codemirror_mode": {
    "name": "ipython",
    "version": 3
   },
   "file_extension": ".py",
   "mimetype": "text/x-python",
   "name": "python",
   "nbconvert_exporter": "python",
   "pygments_lexer": "ipython3",
   "version": "3.11.7"
  }
 },
 "nbformat": 4,
 "nbformat_minor": 2
}
