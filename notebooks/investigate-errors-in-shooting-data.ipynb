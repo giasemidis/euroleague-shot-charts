{
 "cells": [
  {
   "cell_type": "markdown",
   "id": "da592fa3-7c0d-4dee-929f-1cba90e42398",
   "metadata": {},
   "source": [
    "In this notebook, we investigate errors in the shooting position data from the Euroleague API.\n",
    "\n",
    "To run the notebook, data should have been fetched using the notebok `collection-season-shot-data.ipynb` and stored at `../data/`"
   ]
  },
  {
   "cell_type": "code",
   "execution_count": null,
   "id": "576cc7f6-6b62-43c8-a187-c6802757e896",
   "metadata": {},
   "outputs": [],
   "source": [
    "from glob import glob\n",
    "import numpy as np\n",
    "import pandas as pd"
   ]
  },
  {
   "cell_type": "markdown",
   "id": "40ed06fb-b0a6-4947-b4ac-501d01b7268f",
   "metadata": {},
   "source": [
    "# Load data from all seasons"
   ]
  },
  {
   "cell_type": "code",
   "execution_count": null,
   "id": "48caee2b-fbfc-4798-a842-4751cb91eaac",
   "metadata": {},
   "outputs": [],
   "source": [
    "files = glob(\"../data/*csv\")"
   ]
  },
  {
   "cell_type": "code",
   "execution_count": null,
   "id": "804504f0-6d39-4aab-9622-49a5d7a1167d",
   "metadata": {},
   "outputs": [],
   "source": [
    "df_list = []\n",
    "for file in files:\n",
    "    df_list.append(pd.read_csv(file))\n",
    "df = pd.concat(df_list)"
   ]
  },
  {
   "cell_type": "code",
   "execution_count": null,
   "id": "1a830541-980b-4d21-9cea-fbdfb145e312",
   "metadata": {},
   "outputs": [],
   "source": [
    "df.head()"
   ]
  },
  {
   "cell_type": "markdown",
   "id": "c69ce3a2-6a0b-416e-926c-e047fdf1463a",
   "metadata": {},
   "source": [
    "# Explore the dataset"
   ]
  },
  {
   "cell_type": "code",
   "execution_count": null,
   "id": "c8da5200-475a-47fc-b956-b62773ae9c71",
   "metadata": {},
   "outputs": [],
   "source": [
    "np.unique(df['ACTION'])"
   ]
  },
  {
   "cell_type": "code",
   "execution_count": null,
   "id": "d2f3e481-a729-4cde-bc22-220cf09fc4d5",
   "metadata": {},
   "outputs": [],
   "source": [
    "np.unique(df['ZONE'])"
   ]
  },
  {
   "cell_type": "code",
   "execution_count": null,
   "id": "4d748b77-a329-4cb8-9c8e-7b3a7d99b50c",
   "metadata": {},
   "outputs": [],
   "source": [
    "df.groupby([\"ACTION\", \"ID_ACTION\"])[\"Gamecode\"].count().to_frame(\"n_rows\")"
   ]
  },
  {
   "cell_type": "code",
   "execution_count": null,
   "id": "8bcc4bc2-5a72-4d6a-a257-404e9f57ee9c",
   "metadata": {},
   "outputs": [],
   "source": [
    "print(\"Min and max values of the x-coord:\", df['COORD_X'].min(), df['COORD_X'].max())\n",
    "print(\"Min and max values of the y-coord:\", df['COORD_Y'].min(), df['COORD_Y'].max())"
   ]
  },
  {
   "cell_type": "markdown",
   "id": "d6315b56-df35-4662-8170-1dd6f27c4d53",
   "metadata": {},
   "source": [
    "# Explore 2PT vs 3PT FGs"
   ]
  },
  {
   "cell_type": "code",
   "execution_count": null,
   "id": "190b4a69-8b4e-4360-b6f9-ac59192c9fb9",
   "metadata": {},
   "outputs": [],
   "source": [
    "import sys\n",
    "from matplotlib import pyplot as plt\n",
    "\n",
    "sys.path.append(\"../utils/\")\n",
    "from draw_court import draw_court, Arc\n",
    "from shot_chart_plots import plot_scatter, joint_plot\n",
    "%matplotlib\n",
    "\n",
    "plt.close(\"all\")"
   ]
  },
  {
   "cell_type": "markdown",
   "id": "e0a200d8-6f09-418e-a186-80c0179b82de",
   "metadata": {},
   "source": [
    "Split the dataset into the 2PT FGs (including layups and dunks) and 3PT FGs"
   ]
  },
  {
   "cell_type": "code",
   "execution_count": null,
   "id": "3f6e70ef-006e-4684-b377-1ed6fc5fe816",
   "metadata": {
    "tags": []
   },
   "outputs": [],
   "source": [
    "two_pointer_terms = [\"Two Pointer\", \"Layup\", \"Dunk\"]\n",
    "twopt_mask = df['ACTION'].str.contains('|'.join(two_pointer_terms))\n",
    "threept_mask = df['ACTION'].str.contains(\"Three Pointer\")\n",
    "season_mask = df['Season'] >= 2010\n",
    "\n",
    "two_pointers_df = df[twopt_mask & season_mask]\n",
    "three_pointers_df = df[threept_mask & season_mask]"
   ]
  },
  {
   "cell_type": "code",
   "execution_count": null,
   "id": "e62a1300-a0eb-43b6-affb-b1dcb3a137ba",
   "metadata": {},
   "outputs": [],
   "source": [
    "# the 3PT line arc, in graph coordinates\n",
    "three_arc = Arc((0, 0), 2 * 675, 2 * 675, theta1=12, theta2=167.5,\n",
    "                linewidth=1, color=None)"
   ]
  },
  {
   "cell_type": "markdown",
   "id": "af67f536-6845-473f-8414-9f14ec83bf4b",
   "metadata": {
    "tags": []
   },
   "source": [
    "## 3PT FGs attempts"
   ]
  },
  {
   "cell_type": "code",
   "execution_count": null,
   "id": "0d8ef299-a7d6-4ba5-8e39-3fab509e8503",
   "metadata": {},
   "outputs": [],
   "source": [
    "plt.figure()\n",
    "draw_court()\n",
    "plt.plot(three_pointers_df['COORD_X'], three_pointers_df['COORD_Y'], 'o', label='')\n",
    "plt.legend()\n",
    "plt.xlim([-800, 800])\n",
    "plt.ylim([-200, 1300])\n",
    "plt.title(\"Three-point FG attempted since season 2010\")\n",
    "plt.show()"
   ]
  },
  {
   "cell_type": "markdown",
   "id": "463edca4-5f32-4acd-8c65-1920f9f1bc16",
   "metadata": {
    "tags": []
   },
   "source": [
    "## 2PT FGs attempts"
   ]
  },
  {
   "cell_type": "code",
   "execution_count": null,
   "id": "fe17bb3e-5b9e-40c0-9d5e-d76fdeeeebff",
   "metadata": {},
   "outputs": [],
   "source": [
    "plt.figure()\n",
    "draw_court()\n",
    "plt.plot(two_pointers_df['COORD_X'], two_pointers_df['COORD_Y'], 'o', label='')\n",
    "plt.legend()\n",
    "plt.xlim([-800, 800])\n",
    "plt.ylim([-200, 1300])\n",
    "plt.title(\"Two-point FG attempted since season 2010\")\n",
    "plt.show()"
   ]
  },
  {
   "cell_type": "markdown",
   "id": "69aa7992-ea69-4c19-b8f4-89b548b9ee3e",
   "metadata": {},
   "source": [
    "Investigate the \"long\" 2PT shot from the chart above."
   ]
  },
  {
   "cell_type": "code",
   "execution_count": null,
   "id": "129ac38a-7207-4cc2-9f93-00d2df1e66ed",
   "metadata": {},
   "outputs": [],
   "source": [
    "two_pointers_df[two_pointers_df[\"COORD_Y\"] > 1000]"
   ]
  },
  {
   "cell_type": "markdown",
   "id": "99a90ed0-8bed-4877-a52d-7066ca39f569",
   "metadata": {},
   "source": [
    "# Counts of falsely identified shots over the years\n",
    "\n",
    "Focus on areas well inside the arc and areas well outside the arc to avoid edge cases very near the arc."
   ]
  },
  {
   "cell_type": "code",
   "execution_count": null,
   "id": "42caf891-031f-481c-8bc4-87914aa45821",
   "metadata": {},
   "outputs": [],
   "source": [
    "mask_false_3pt = (three_pointers_df['COORD_X'].abs() <= 400) & (three_pointers_df['COORD_Y'].abs() <= 400)\n",
    "threept_dist = three_pointers_df[mask_false_3pt].groupby(\"Season\").count()[\"Gamecode\"]"
   ]
  },
  {
   "cell_type": "code",
   "execution_count": null,
   "id": "280630da-5ce4-4262-9c75-61e1c68debeb",
   "metadata": {},
   "outputs": [],
   "source": [
    "mask_false_2pt = two_pointers_df['COORD_Y'].abs() >= 700\n",
    "twopt_dist = two_pointers_df[mask_false_2pt].groupby(\"Season\").count()[\"Gamecode\"]"
   ]
  },
  {
   "cell_type": "code",
   "execution_count": null,
   "id": "3fd52fa2-0897-4705-b8f6-0f874c6ab14c",
   "metadata": {},
   "outputs": [],
   "source": [
    "dist_df = pd.concat([threept_dist, twopt_dist], axis=1)\n",
    "dist_df.columns = [\"3PT\", \"2PT\"]"
   ]
  },
  {
   "cell_type": "code",
   "execution_count": null,
   "id": "285b017f-75a5-44fe-9980-128fe31f82fa",
   "metadata": {},
   "outputs": [],
   "source": [
    "dist_df.plot.bar(stacked=True, title=\"Falsely registered shots according to their location on the court\")"
   ]
  }
 ],
 "metadata": {
  "kernelspec": {
   "display_name": "Python 3 (ipykernel)",
   "language": "python",
   "name": "python3"
  },
  "language_info": {
   "codemirror_mode": {
    "name": "ipython",
    "version": 3
   },
   "file_extension": ".py",
   "mimetype": "text/x-python",
   "name": "python",
   "nbconvert_exporter": "python",
   "pygments_lexer": "ipython3",
   "version": "3.8.5"
  }
 },
 "nbformat": 4,
 "nbformat_minor": 5
}
