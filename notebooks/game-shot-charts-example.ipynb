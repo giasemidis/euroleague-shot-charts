{
 "cells": [
  {
   "cell_type": "markdown",
   "id": "7e218719",
   "metadata": {},
   "source": [
    "*Example* for collecting and plotting Euroleague shot data. \n",
    "\n",
    "Based on the work of [Savvas Tjortjoglou](http://savvastjortjoglou.com/nba-shot-sharts.html)\n",
    "\n",
    "Euroleague API found on this [R-package](https://github.com/solmos/eurolig)"
   ]
  },
  {
   "cell_type": "code",
   "execution_count": null,
   "id": "d746b1eb",
   "metadata": {},
   "outputs": [],
   "source": [
    "import sys\n",
    "import requests\n",
    "import pandas as pd\n",
    "\n",
    "from matplotlib import pyplot as plt\n",
    "\n",
    "sys.path.append(\"../utils/\")\n",
    "from draw_court import draw_court\n",
    "from shot_chart_plots import plot_scatter, joint_plot\n",
    "%matplotlib\n",
    "\n",
    "plt.close(\"all\")"
   ]
  },
  {
   "cell_type": "code",
   "execution_count": null,
   "id": "77f214c3",
   "metadata": {},
   "outputs": [],
   "source": [
    "url = \"https://live.euroleague.net/api/Points?gamecode=54&seasoncode=E2021\"\n",
    "\n",
    "r = requests.get(url)\n",
    "print(r.status_code)  # if all goes well this must return 200"
   ]
  },
  {
   "cell_type": "code",
   "execution_count": null,
   "id": "8ee80135",
   "metadata": {},
   "outputs": [],
   "source": [
    "data = r.json()\n",
    "shots_df = pd.DataFrame(data['Rows'])\n",
    "shots_df['TEAM'] = shots_df['TEAM'].str.strip()  # team id contains trailing white space\n",
    "shots_df['ID_PLAYER'] = shots_df['ID_PLAYER'].str.strip()  # player id contains trailing white space"
   ]
  },
  {
   "cell_type": "code",
   "execution_count": null,
   "id": "db1cad9b",
   "metadata": {},
   "outputs": [],
   "source": [
    "# split the home and away teams, their made and missed shots\n",
    "home_df = shots_df[shots_df['TEAM'] == 'PAN']\n",
    "fg_made_home_df = home_df[home_df['ID_ACTION'].isin(['2FGM', '3FGM'])]\n",
    "fg_miss_home_df = home_df[home_df['ID_ACTION'].isin(['2FGA', '3FGA'])]\n",
    "\n",
    "away_df = shots_df[shots_df['TEAM'] == 'IST']\n",
    "fg_made_away_df = away_df[away_df['ID_ACTION'].isin(['2FGM', '3FGM'])]\n",
    "fg_miss_away_df = away_df[away_df['ID_ACTION'].isin(['2FGA', '3FGA'])]"
   ]
  },
  {
   "cell_type": "code",
   "execution_count": null,
   "id": "efeb8ce9",
   "metadata": {},
   "outputs": [],
   "source": [
    "# scatter shot chart of PAOs\n",
    "plot_scatter(fg_made_home_df, fg_miss_home_df, title='PAO')\n",
    "\n",
    "# scatter shot chart of Efer\n",
    "plot_scatter(fg_made_away_df, fg_miss_away_df, title='EFES')"
   ]
  },
  {
   "cell_type": "code",
   "execution_count": null,
   "id": "2e90e293",
   "metadata": {},
   "outputs": [],
   "source": [
    "# density plot of all PAO's shots (made and missed)\n",
    "fg_home_shots = pd.concat((fg_made_home_df, fg_miss_home_df), axis=0)\n",
    "joint_plot(fg_home_shots, title='PAOs Attemped Shots (made and missed)')"
   ]
  }
 ],
 "metadata": {
  "kernelspec": {
   "display_name": "Python 3 (ipykernel)",
   "language": "python",
   "name": "python3"
  },
  "language_info": {
   "codemirror_mode": {
    "name": "ipython",
    "version": 3
   },
   "file_extension": ".py",
   "mimetype": "text/x-python",
   "name": "python",
   "nbconvert_exporter": "python",
   "pygments_lexer": "ipython3",
   "version": "3.8.5"
  }
 },
 "nbformat": 4,
 "nbformat_minor": 5
}
