{
 "cells": [
  {
   "cell_type": "markdown",
   "id": "07d97df4",
   "metadata": {},
   "source": [
    "In this notebook, we analyse the Euroleague historic trend of midrange and 3pt attempts."
   ]
  },
  {
   "cell_type": "code",
   "execution_count": null,
   "id": "f95a5659-d621-4bbe-ad09-c626e976b9fc",
   "metadata": {},
   "outputs": [],
   "source": [
    "import os\n",
    "import sys\n",
    "import glob\n",
    "import pandas as pd\n",
    "import numpy as np\n",
    "\n",
    "import plotly.express as px\n",
    "from plotly import graph_objs as go\n",
    "from matplotlib import pyplot as plt\n",
    "\n",
    "sys.path.append(\"../utils/\")\n",
    "from shot_chart_plots import plot_scatter_single_df\n",
    "# %matplotlib\n",
    "\n",
    "plt.close(\"all\")"
   ]
  },
  {
   "cell_type": "code",
   "execution_count": null,
   "id": "2e609732",
   "metadata": {},
   "outputs": [],
   "source": [
    "mid_range_x = (-245, 245)\n",
    "mid_range_y = 422.5"
   ]
  },
  {
   "cell_type": "markdown",
   "id": "3f7765f6",
   "metadata": {},
   "source": [
    "Data is collected via the [euroleague-api](https://pypi.org/project/euroleague-api/) and is stored in the folder `data` in the project directory."
   ]
  },
  {
   "cell_type": "code",
   "execution_count": null,
   "id": "81046bac",
   "metadata": {},
   "outputs": [],
   "source": [
    "# Data is collected using the\n",
    "shot_df = []\n",
    "for file in glob.glob(\"../data/*.csv\"):\n",
    "    df = pd.read_csv(file)\n",
    "    shot_df.append(df)\n",
    "shot_df = pd.concat(shot_df)"
   ]
  },
  {
   "cell_type": "code",
   "execution_count": null,
   "id": "96823768",
   "metadata": {},
   "outputs": [],
   "source": [
    "shot_df = shot_df.sort_values([\"Season\", \"Gamecode\"]).reset_index(drop=True)"
   ]
  },
  {
   "cell_type": "code",
   "execution_count": null,
   "id": "a24f946a",
   "metadata": {},
   "outputs": [],
   "source": [
    "dist = np.sqrt(shot_df[\"COORD_X\"] ** 2 + shot_df[\"COORD_Y\"] ** 2)"
   ]
  },
  {
   "cell_type": "code",
   "execution_count": null,
   "id": "c96c65a5",
   "metadata": {},
   "outputs": [],
   "source": [
    "mid_range_definition = 1  # or 2.\n",
    "\n",
    "if mid_range_definition == 1:\n",
    "    # This is the mid-range definition of any 2FG outside the paint\n",
    "    mid_range_def_mask = (\n",
    "        (shot_df[\"COORD_X\"] < mid_range_x[0]) | (shot_df[\"COORD_X\"] > mid_range_x[1]) | (shot_df[\"COORD_Y\"] > mid_range_y)\n",
    "    )\n",
    "elif mid_range_definition == 2:\n",
    "    # This is the mid-range definition of and any 2FG and >8ft from the basket\n",
    "    mid_range_def_mask = (dist >= 244)\n",
    "else:\n",
    "    print(\"Choose definition 1 or 2\")"
   ]
  },
  {
   "cell_type": "code",
   "execution_count": null,
   "id": "40726efb",
   "metadata": {},
   "outputs": [],
   "source": [
    "mid_range_zones = [\"D\", \"E\", \"F\", \"G\"]\n",
    "non_mid_range_zones = [u for u in shot_df[\"ZONE\"].unique() if u not in mid_range_zones + [\" \"]]\n",
    "fg_zones = mid_range_zones + non_mid_range_zones\n",
    "\n",
    "# ensure the shot is for 2. There are some data irregularities where a 3PT shot is registered in the mid-range zones.\n",
    "mid_range_mask = (\n",
    "    shot_df[\"ZONE\"].isin(mid_range_zones)\n",
    "    & shot_df[\"ID_ACTION\"].isin(['2FGM', '2FGA', '2FGAB', \"LAYUPATT\", \"LAYUPMD\", \"DUNK\"])\n",
    "    & mid_range_def_mask\n",
    "    & (shot_df[\"COORD_X\"] > -679)  # to remove outliers/irregularities\n",
    "    & (dist <= 679)  # to remove outliers/irregularities\n",
    ")"
   ]
  },
  {
   "cell_type": "code",
   "execution_count": null,
   "id": "932ca2b8",
   "metadata": {},
   "outputs": [],
   "source": [
    "rim_mask = (\n",
    "    shot_df[\"ID_ACTION\"].isin(['2FGM', '2FGA', \"LAYUPATT\", \"LAYUPMD\", \"DUNK\", \"2FGAB\"])\n",
    "    & (~mid_range_def_mask)\n",
    ")"
   ]
  },
  {
   "cell_type": "code",
   "execution_count": null,
   "id": "ce854ff3",
   "metadata": {},
   "outputs": [],
   "source": [
    "three_mask = (\n",
    "    shot_df[\"ZONE\"].isin([\"H\", \"I\", \"J\"])\n",
    "    & shot_df[\"ID_ACTION\"].isin(['3FGM', '3FGA', '3FGAB'])\n",
    "    & (dist > 600)  # to remove outliers/irregularities\n",
    ")"
   ]
  },
  {
   "cell_type": "code",
   "execution_count": null,
   "id": "77a60aa0",
   "metadata": {},
   "outputs": [],
   "source": [
    "midrange_df = shot_df[mid_range_mask]\n",
    "rim_df = shot_df[rim_mask]\n",
    "three_df = shot_df[three_mask]"
   ]
  },
  {
   "cell_type": "code",
   "execution_count": null,
   "id": "90ef3417",
   "metadata": {},
   "outputs": [],
   "source": [
    "plot_scatter_single_df(midrange_df, title=\"Mid range attempts\")\n",
    "plot_scatter_single_df(rim_df, title=\"Paint attempts\")\n",
    "plot_scatter_single_df(three_df, title=\"3pt attempts\")"
   ]
  },
  {
   "cell_type": "code",
   "execution_count": null,
   "id": "7f1a5ed5",
   "metadata": {},
   "outputs": [],
   "source": [
    "midrange_byseason_df = midrange_df.groupby(\"Season\").count()[\"ID_ACTION\"]\n",
    "rim_byseason_df = rim_df.groupby(\"Season\").count()[\"ID_ACTION\"]\n",
    "three_byseason_df = three_df.groupby(\"Season\").count()[\"ID_ACTION\"]\n",
    "n_games_df = shot_df.groupby(\"Season\").nunique(\"Gamecode\")[\"Gamecode\"]\n",
    "\n",
    "midrange_vol_df = midrange_byseason_df / n_games_df\n",
    "midrange_vol_df = midrange_vol_df[midrange_vol_df.index >= 2010]\n",
    "\n",
    "rim_vol_df = rim_byseason_df / n_games_df\n",
    "rim_vol_df = rim_vol_df[rim_vol_df.index >= 2010]\n",
    "\n",
    "three_vol_df = three_byseason_df / n_games_df\n",
    "three_vol_df = three_vol_df[three_vol_df.index >= 2010]"
   ]
  },
  {
   "cell_type": "code",
   "execution_count": null,
   "id": "4ba6354a",
   "metadata": {},
   "outputs": [],
   "source": [
    "shot_type_df = pd.concat([rim_byseason_df, midrange_byseason_df, three_byseason_df], axis=1)\n",
    "shot_type_df.columns = [\"paint\", \"mid-range\", \"3pt\"]\n",
    "\n",
    "perc_shot_type_df = 100 * shot_type_df.div(shot_type_df.sum(axis=1), axis=0)\n",
    "perc_shot_type_df = perc_shot_type_df[perc_shot_type_df.index >= 2010]"
   ]
  },
  {
   "cell_type": "code",
   "execution_count": null,
   "id": "97679226",
   "metadata": {},
   "outputs": [],
   "source": [
    "data = [\n",
    "    go.Scatter(x=perc_shot_type_df.index, y=perc_shot_type_df[u], name=u)\n",
    "    for u in perc_shot_type_df.columns\n",
    "]\n",
    "layout = go.Layout(\n",
    "    title=\"Euroleague historic trend in % of 3PT vs mid-range vs paint attempts per game\",\n",
    "    xaxis={\"title\": \"Season\"},\n",
    "    yaxis={\"title\": \"% Attempts\"}\n",
    ")\n",
    "fig = go.Figure(data, layout)\n",
    "fig.show()"
   ]
  },
  {
   "cell_type": "code",
   "execution_count": null,
   "id": "ef896fae",
   "metadata": {},
   "outputs": [],
   "source": [
    "data = [\n",
    "    go.Scatter(x=midrange_vol_df.index, y=midrange_vol_df, name=\"mid-range\"),\n",
    "    go.Scatter(x=rim_vol_df.index, y=rim_vol_df, name=\"paint\"),\n",
    "    go.Scatter(x=three_vol_df.index, y=three_vol_df, name=\"3pt\"),\n",
    "]\n",
    "layout = go.Layout(\n",
    "    title=\"Euroleague historic trend in 3PT vs mid-range vs paint attempts\",\n",
    "    xaxis={\"title\": \"Season\"},\n",
    "    yaxis={\"title\": \"Attempts per game\"},\n",
    ")\n",
    "fig = go.Figure(data, layout)\n",
    "fig.show()"
   ]
  },
  {
   "cell_type": "code",
   "execution_count": null,
   "id": "3d87d57f",
   "metadata": {},
   "outputs": [],
   "source": []
  }
 ],
 "metadata": {
  "kernelspec": {
   "display_name": "Python 3 (ipykernel)",
   "language": "python",
   "name": "python3"
  },
  "language_info": {
   "codemirror_mode": {
    "name": "ipython",
    "version": 3
   },
   "file_extension": ".py",
   "mimetype": "text/x-python",
   "name": "python",
   "nbconvert_exporter": "python",
   "pygments_lexer": "ipython3",
   "version": "3.11.7"
  }
 },
 "nbformat": 4,
 "nbformat_minor": 5
}
